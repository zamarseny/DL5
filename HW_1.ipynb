{
 "cells": [
  {
   "cell_type": "markdown",
   "metadata": {},
   "source": [
    "## Наивный байесовский классификатор"
   ]
  },
  {
   "cell_type": "code",
   "execution_count": 1,
   "metadata": {
    "ExecuteTime": {
     "end_time": "2019-11-04T10:14:16.567789Z",
     "start_time": "2019-11-04T10:14:16.347872Z"
    }
   },
   "outputs": [],
   "source": [
    "import torch"
   ]
  },
  {
   "cell_type": "code",
   "execution_count": 2,
   "metadata": {},
   "outputs": [],
   "source": [
    "device=torch.device('cuda')"
   ]
  },
  {
   "cell_type": "code",
   "execution_count": 3,
   "metadata": {},
   "outputs": [],
   "source": [
    "import matplotlib.pyplot as plt"
   ]
  },
  {
   "cell_type": "code",
   "execution_count": 4,
   "metadata": {
    "ExecuteTime": {
     "end_time": "2019-11-04T10:38:01.240059Z",
     "start_time": "2019-11-04T10:38:01.054722Z"
    }
   },
   "outputs": [],
   "source": [
    "import torchvision"
   ]
  },
  {
   "cell_type": "code",
   "execution_count": 5,
   "metadata": {
    "ExecuteTime": {
     "end_time": "2019-11-04T10:44:14.593070Z",
     "start_time": "2019-11-04T10:44:14.589491Z"
    }
   },
   "outputs": [],
   "source": [
    "def transform(data):\n",
    "    data = torch.tensor(data.getdata(), dtype=torch.float32)\n",
    "    return torch.floor(data / 128.).squeeze(axis=-1)"
   ]
  },
  {
   "cell_type": "code",
   "execution_count": 6,
   "metadata": {
    "ExecuteTime": {
     "end_time": "2019-11-04T10:44:15.031006Z",
     "start_time": "2019-11-04T10:44:14.978507Z"
    },
    "scrolled": true
   },
   "outputs": [],
   "source": [
    "mnist_train = torchvision.datasets.MNIST('.', train=True, transform=transform, download=True)\n",
    "mnist_test  = torchvision.datasets.MNIST('.', train=False, transform=transform, download=True)\n",
    "#mnist_train = torchvision.datasets.MNIST(train=True, transform=transform, download=True)\n",
    "#mnist_test  = torchvision.datasets.MNIST(train=False, transform=transform, download=True)"
   ]
  },
  {
   "cell_type": "code",
   "execution_count": 7,
   "metadata": {},
   "outputs": [
    {
     "data": {
      "text/plain": [
       "(60000, 10000)"
      ]
     },
     "execution_count": 7,
     "metadata": {},
     "output_type": "execute_result"
    }
   ],
   "source": [
    "len(mnist_train), len(mnist_test)"
   ]
  },
  {
   "cell_type": "code",
   "execution_count": 8,
   "metadata": {
    "ExecuteTime": {
     "end_time": "2019-11-04T10:44:58.840112Z",
     "start_time": "2019-11-04T10:44:58.835224Z"
    }
   },
   "outputs": [
    {
     "data": {
      "text/plain": [
       "5"
      ]
     },
     "execution_count": 8,
     "metadata": {},
     "output_type": "execute_result"
    }
   ],
   "source": [
    "#mnist_train[0][0].shape \n",
    "mnist_train[0][1]"
   ]
  },
  {
   "cell_type": "code",
   "execution_count": 9,
   "metadata": {
    "ExecuteTime": {
     "end_time": "2019-11-04T10:45:58.919510Z",
     "start_time": "2019-11-04T10:45:58.425460Z"
    }
   },
   "outputs": [],
   "source": [
    "import matplotlib.pyplot as plt\n",
    "%matplotlib inline"
   ]
  },
  {
   "cell_type": "code",
   "execution_count": 10,
   "metadata": {
    "ExecuteTime": {
     "end_time": "2019-11-04T10:46:54.051375Z",
     "start_time": "2019-11-04T10:46:54.041789Z"
    }
   },
   "outputs": [],
   "source": [
    "#mnist_train[0][0]"
   ]
  },
  {
   "cell_type": "code",
   "execution_count": 11,
   "metadata": {
    "ExecuteTime": {
     "end_time": "2019-11-04T10:47:04.823458Z",
     "start_time": "2019-11-04T10:47:04.662416Z"
    }
   },
   "outputs": [
    {
     "data": {
      "text/plain": [
       "<matplotlib.image.AxesImage at 0x189586c3ec8>"
      ]
     },
     "execution_count": 11,
     "metadata": {},
     "output_type": "execute_result"
    },
    {
     "data": {
      "image/png": "[encoded data removed]",
      "text/plain": [
       "<Figure size 432x288 with 1 Axes>"
      ]
     },
     "metadata": {
      "needs_background": "light"
     },
     "output_type": "display_data"
    }
   ],
   "source": [
    "plt.imshow(mnist_train[1][0].reshape(28, 28), cmap='gray', vmin=0, vmax=1)"
   ]
  },
  {
   "cell_type": "code",
   "execution_count": 12,
   "metadata": {},
   "outputs": [],
   "source": [
    "import numpy as np"
   ]
  },
  {
   "cell_type": "code",
   "execution_count": null,
   "metadata": {},
   "outputs": [],
   "source": [
    "#создаю датасет из нулей и единиц"
   ]
  },
  {
   "cell_type": "code",
   "execution_count": 13,
   "metadata": {},
   "outputs": [
    {
     "data": {
      "text/plain": [
       "(torch.Size([5923, 784]), torch.Size([6742, 784]))"
      ]
     },
     "execution_count": 13,
     "metadata": {},
     "output_type": "execute_result"
    }
   ],
   "source": [
    "Ones=torch.tensor([0.])\n",
    "Zeros=torch.tensor([0.])\n",
    "for i, X in enumerate(mnist_train):\n",
    "    if X[1]==1: \n",
    "        if len(Ones)==1:\n",
    "            Ones=X[0]\n",
    "        elif Ones.shape==torch.Size([784]):\n",
    "            #print(X[1], Ones.shape, X[0].shape)\n",
    "            Ones=torch.stack((Ones, X[0]))\n",
    "        else:            \n",
    "            #print(X[1], Ones.shape, X[0].reshape(1,784).shape)\n",
    "            Ones=torch.cat((Ones, X[0].reshape(1,784)), dim=0)\n",
    "            \n",
    "    if X[1]==0: \n",
    "        if len(Zeros)==1:\n",
    "            Zeros=X[0]\n",
    "        elif Zeros.shape==torch.Size([784]):\n",
    "            #print(X[1], Zeros.shape, X[0].shape)\n",
    "            Zeros=torch.stack((Zeros, X[0]))\n",
    "        else:\n",
    "            #print(X[1], Zeros.shape, X[0].shape)\n",
    "            Zeros=torch.cat((Zeros, X[0].reshape(1,784)), dim=0)   \n",
    "    #print(i, X[0].shape, X[1])\n",
    "Zeros.shape, Ones.shape"
   ]
  },
  {
   "cell_type": "code",
   "execution_count": 14,
   "metadata": {},
   "outputs": [],
   "source": [
    "X_train=torch.cat((Ones, Zeros), dim=0)\n",
    "#Y_train=torch.stack((torch.ones(5923), torch.zeros(6742)))\n",
    "Y_train=torch.cat((torch.ones(6742), torch.zeros(5923)), dim=0)"
   ]
  },
  {
   "cell_type": "code",
   "execution_count": 15,
   "metadata": {},
   "outputs": [
    {
     "data": {
      "text/plain": [
       "(torch.Size([12665, 784]), torch.Size([12665]))"
      ]
     },
     "execution_count": 15,
     "metadata": {},
     "output_type": "execute_result"
    }
   ],
   "source": [
    "#Y_train.shape\n",
    "X_train.shape, Y_train.shape"
   ]
  },
  {
   "cell_type": "code",
   "execution_count": 16,
   "metadata": {},
   "outputs": [
    {
     "data": {
      "text/plain": [
       "(0.46766679826292934, 0.5323332017370707)"
      ]
     },
     "execution_count": 16,
     "metadata": {},
     "output_type": "execute_result"
    }
   ],
   "source": [
    "P_Zeros=Zeros.shape[0]/(Ones.shape[0]+Zeros.shape[0])\n",
    "P_Ones=Ones.shape[0]/(Ones.shape[0]+Zeros.shape[0])\n",
    "P_Zeros, P_Ones"
   ]
  },
  {
   "cell_type": "code",
   "execution_count": 17,
   "metadata": {},
   "outputs": [
    {
     "data": {
      "text/plain": [
       "(torch.Size([784]), torch.Size([784]))"
      ]
     },
     "execution_count": 17,
     "metadata": {},
     "output_type": "execute_result"
    }
   ],
   "source": [
    "P_x_Zeros=Zeros.mean(axis=0)\n",
    "\n",
    "\n",
    "P_x_Ones=Ones.mean(axis=0)\n",
    "P_x_Zeros.shape, P_x_Ones.shape\n",
    "#P_x_Ones+P_x_Zeros"
   ]
  },
  {
   "cell_type": "code",
   "execution_count": 18,
   "metadata": {},
   "outputs": [
    {
     "data": {
      "text/plain": [
       "1"
      ]
     },
     "execution_count": 18,
     "metadata": {},
     "output_type": "execute_result"
    }
   ],
   "source": [
    "mnist_test[2][1]"
   ]
  },
  {
   "cell_type": "code",
   "execution_count": 19,
   "metadata": {},
   "outputs": [
    {
     "data": {
      "text/plain": [
       "<matplotlib.image.AxesImage at 0x1895d3ac648>"
      ]
     },
     "execution_count": 19,
     "metadata": {},
     "output_type": "execute_result"
    },
    {
     "data": {
      "image/png": "[encoded data removed]",
      "text/plain": [
       "<Figure size 432x288 with 1 Axes>"
      ]
     },
     "metadata": {
      "needs_background": "light"
     },
     "output_type": "display_data"
    }
   ],
   "source": [
    "plt.imshow(mnist_test[3][0].reshape(28, 28), cmap='gray', vmin=0, vmax=1)"
   ]
  },
  {
   "cell_type": "code",
   "execution_count": 20,
   "metadata": {},
   "outputs": [],
   "source": [
    "def ones_prob(X):\n",
    "    ln_P_x=0\n",
    "    for i, x_i in enumerate(X[X>0]):\n",
    "        ln_P_x+=np.log(P_x_Ones[X>0][i]/P_x_Zeros[X>0][i])\n",
    "    ex=np.exp(np.log(P_Ones/P_Zeros)+ln_P_x)\n",
    "    P_Ones_condit_pic=ex/(1+ex)\n",
    "    return ln_P_x, ex, P_Ones_condit_pic"
   ]
  },
  {
   "cell_type": "code",
   "execution_count": 21,
   "metadata": {},
   "outputs": [
    {
     "data": {
      "text/plain": [
       "(tensor(-386.9327), tensor(0.), 0.0)"
      ]
     },
     "execution_count": 21,
     "metadata": {},
     "output_type": "execute_result"
    }
   ],
   "source": [
    "ln_P_x, ex, P_Ones_condit_pic=ones_prob(mnist_test[3][0])\n",
    "ln_P_x, ex, P_Ones_condit_pic.item()"
   ]
  },
  {
   "cell_type": "code",
   "execution_count": 22,
   "metadata": {},
   "outputs": [
    {
     "data": {
      "text/plain": [
       "(tensor(50.8097), tensor(1.3262e+22), 1.0)"
      ]
     },
     "execution_count": 22,
     "metadata": {},
     "output_type": "execute_result"
    }
   ],
   "source": [
    "ln_P_x, ex, P_Ones_condit_pic=ones_prob(mnist_test[2][0])\n",
    "ln_P_x, ex, P_Ones_condit_pic.item()"
   ]
  },
  {
   "cell_type": "code",
   "execution_count": 23,
   "metadata": {},
   "outputs": [
    {
     "data": {
      "text/plain": [
       "(tensor(inf), tensor(inf), nan, False)"
      ]
     },
     "execution_count": 23,
     "metadata": {},
     "output_type": "execute_result"
    }
   ],
   "source": [
    "ln_P_x, ex, P_Ones_condit_pic=ones_prob(mnist_test[956][0])\n",
    "ln_P_x, ex, P_Ones_condit_pic.item(), P_Ones_condit_pic.item()==np.inf"
   ]
  },
  {
   "cell_type": "code",
   "execution_count": 24,
   "metadata": {},
   "outputs": [
    {
     "data": {
      "text/plain": [
       "True"
      ]
     },
     "execution_count": 24,
     "metadata": {},
     "output_type": "execute_result"
    }
   ],
   "source": [
    "ln_P_x.item()==np.inf"
   ]
  },
  {
   "cell_type": "code",
   "execution_count": 25,
   "metadata": {},
   "outputs": [],
   "source": [
    "def isNaN(x):\n",
    "    if x!=x:\n",
    "        return True\n",
    "    else:\n",
    "        return False"
   ]
  },
  {
   "cell_type": "code",
   "execution_count": 26,
   "metadata": {},
   "outputs": [
    {
     "name": "stderr",
     "output_type": "stream",
     "text": [
      "C:\\Users\\zamarseny\\anaconda3\\envs\\torch\\lib\\site-packages\\ipykernel_launcher.py:4: RuntimeWarning: divide by zero encountered in log\n",
      "  after removing the cwd from sys.path.\n"
     ]
    }
   ],
   "source": [
    "y_true=[]\n",
    "y_pred=[]\n",
    "for i, X in enumerate(mnist_test):\n",
    "    if X[1] in [0,1]: \n",
    "        prob=ones_prob(X[0])[2].item()\n",
    "        ln_P_x=ones_prob(X[0])[0].item()\n",
    "        #print(i, prob, X[1])\n",
    "        y_true.append(X[1])\n",
    "        if ln_P_x==np.inf:\n",
    "            y_pred.append(1)\n",
    "        elif isNaN(ln_P_x):\n",
    "            y_pred.append(2)\n",
    "        else:\n",
    "            y_pred.append(round(prob))"
   ]
  },
  {
   "cell_type": "code",
   "execution_count": 27,
   "metadata": {},
   "outputs": [
    {
     "data": {
      "text/plain": [
       "(2115, 2115)"
      ]
     },
     "execution_count": 27,
     "metadata": {},
     "output_type": "execute_result"
    }
   ],
   "source": [
    "len(y_true), len(y_pred)#, isNaN(ln_P_x), np.nan"
   ]
  },
  {
   "cell_type": "code",
   "execution_count": 28,
   "metadata": {},
   "outputs": [],
   "source": [
    "from sklearn.metrics import accuracy_score"
   ]
  },
  {
   "cell_type": "code",
   "execution_count": 29,
   "metadata": {},
   "outputs": [
    {
     "data": {
      "text/plain": [
       "0.9791962174940898"
      ]
     },
     "execution_count": 29,
     "metadata": {},
     "output_type": "execute_result"
    }
   ],
   "source": [
    "accuracy_score(y_true, y_pred)"
   ]
  },
  {
   "cell_type": "code",
   "execution_count": 30,
   "metadata": {},
   "outputs": [],
   "source": [
    "# теперь sklearn"
   ]
  },
  {
   "cell_type": "code",
   "execution_count": 31,
   "metadata": {},
   "outputs": [],
   "source": [
    "from sklearn.model_selection import train_test_split\n",
    "from sklearn.naive_bayes import GaussianNB, CategoricalNB\n",
    "gnb = GaussianNB()"
   ]
  },
  {
   "cell_type": "code",
   "execution_count": 32,
   "metadata": {},
   "outputs": [
    {
     "data": {
      "text/plain": [
       "(torch.Size([980, 784]), torch.Size([1135, 784]))"
      ]
     },
     "execution_count": 32,
     "metadata": {},
     "output_type": "execute_result"
    }
   ],
   "source": [
    "Ones=torch.tensor([0.])\n",
    "Zeros=torch.tensor([0.])\n",
    "for i, X in enumerate(mnist_test):\n",
    "    if X[1]==1: \n",
    "        if len(Ones)==1:\n",
    "            Ones=X[0]\n",
    "        elif Ones.shape==torch.Size([784]):\n",
    "            #print(X[1], Ones.shape, X[0].shape)\n",
    "            Ones=torch.stack((Ones, X[0]))\n",
    "        else:            \n",
    "            #print(X[1], Ones.shape, X[0].reshape(1,784).shape)\n",
    "            Ones=torch.cat((Ones, X[0].reshape(1,784)), dim=0)\n",
    "            \n",
    "    if X[1]==0: \n",
    "        if len(Zeros)==1:\n",
    "            Zeros=X[0]\n",
    "        elif Zeros.shape==torch.Size([784]):\n",
    "            #print(X[1], Zeros.shape, X[0].shape)\n",
    "            Zeros=torch.stack((Zeros, X[0]))\n",
    "        else:\n",
    "            #print(X[1], Zeros.shape, X[0].shape)\n",
    "            Zeros=torch.cat((Zeros, X[0].reshape(1,784)), dim=0)   \n",
    "    #print(i, X[0].shape, X[1])\n",
    "Zeros.shape, Ones.shape"
   ]
  },
  {
   "cell_type": "code",
   "execution_count": 33,
   "metadata": {},
   "outputs": [],
   "source": [
    "X_test=torch.cat((Ones, Zeros), dim=0)\n",
    "#Y_train=torch.stack((torch.ones(5923), torch.zeros(6742)))\n",
    "Y_test=torch.cat((torch.ones(1135), torch.zeros(980)), dim=0)"
   ]
  },
  {
   "cell_type": "code",
   "execution_count": 34,
   "metadata": {},
   "outputs": [
    {
     "data": {
      "text/plain": [
       "(torch.Size([12665, 784]),\n",
       " torch.Size([12665]),\n",
       " torch.Size([2115, 784]),\n",
       " torch.Size([2115]))"
      ]
     },
     "execution_count": 34,
     "metadata": {},
     "output_type": "execute_result"
    }
   ],
   "source": [
    "X_train.shape, Y_train.shape, X_test.shape, Y_test.shape"
   ]
  },
  {
   "cell_type": "code",
   "execution_count": 35,
   "metadata": {},
   "outputs": [],
   "source": [
    "y_pred = gnb.fit(X_train, Y_train).predict(X_test)\n",
    "#y_pred = cnb.fit(X_train.numpy(), Y_train.numpy()).predict(X_test)"
   ]
  },
  {
   "cell_type": "code",
   "execution_count": 38,
   "metadata": {
    "scrolled": true
   },
   "outputs": [],
   "source": [
    "#for i in zip(Y_test, y_pred):\n",
    "#    print(i)"
   ]
  },
  {
   "cell_type": "code",
   "execution_count": 37,
   "metadata": {},
   "outputs": [
    {
     "data": {
      "text/plain": [
       "0.992434988179669"
      ]
     },
     "execution_count": 37,
     "metadata": {},
     "output_type": "execute_result"
    }
   ],
   "source": [
    "accuracy_score(Y_test, y_pred)"
   ]
  },
  {
   "cell_type": "code",
   "execution_count": null,
   "metadata": {},
   "outputs": [],
   "source": [
    "# У sklearn точность выше. \n",
    "# Решение про регрессию boston house pricing во второй ссылке"
   ]
  }
 ],
 "metadata": {
  "kernelspec": {
   "display_name": "Python 3",
   "language": "python",
   "name": "python3"
  },
  "language_info": {
   "codemirror_mode": {
    "name": "ipython",
    "version": 3
   },
   "file_extension": ".py",
   "mimetype": "text/x-python",
   "name": "python",
   "nbconvert_exporter": "python",
   "pygments_lexer": "ipython3",
   "version": "3.7.9"
  }
 },
 "nbformat": 4,
 "nbformat_minor": 2
}
