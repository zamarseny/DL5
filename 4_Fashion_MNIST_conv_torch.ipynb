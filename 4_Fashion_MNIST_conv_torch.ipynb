{
 "cells": [
  {
   "cell_type": "code",
   "execution_count": 1,
   "metadata": {
    "ExecuteTime": {
     "end_time": "2020-02-14T21:19:12.309344Z",
     "start_time": "2020-02-14T21:19:11.748461Z"
    },
    "colab": {},
    "colab_type": "code",
    "id": "cnKpwMuHd5sY"
   },
   "outputs": [],
   "source": [
    "import torch\n",
    "from torch import nn\n",
    "import torchvision as tv"
   ]
  },
  {
   "cell_type": "markdown",
   "metadata": {
    "colab_type": "text",
    "id": "IpBa4nCkgSve"
   },
   "source": [
    "Используя сверточные слои и архитектуру получите на fashion mnist качество не ниже 89,5%\n"
   ]
  },
  {
   "cell_type": "code",
   "execution_count": 2,
   "metadata": {
    "ExecuteTime": {
     "end_time": "2020-02-14T21:29:24.498918Z",
     "start_time": "2020-02-14T21:29:24.495970Z"
    },
    "colab": {},
    "colab_type": "code",
    "id": "4TMrR96Ad5uN"
   },
   "outputs": [],
   "source": [
    "import time\n",
    "import matplotlib.pyplot as plt"
   ]
  },
  {
   "cell_type": "code",
   "execution_count": 3,
   "metadata": {
    "ExecuteTime": {
     "end_time": "2020-02-14T21:24:20.589869Z",
     "start_time": "2020-02-14T21:24:20.565449Z"
    },
    "colab": {},
    "colab_type": "code",
    "id": "bwvmJqQRd5uS"
   },
   "outputs": [],
   "source": [
    "Fmnist_train = tv.datasets.FashionMNIST('.', train=True, transform=tv.transforms.ToTensor(), download=True)\n",
    "Fmnist_test  = tv.datasets.FashionMNIST('.', train=False, transform=tv.transforms.ToTensor(), download=True)"
   ]
  },
  {
   "cell_type": "code",
   "execution_count": 4,
   "metadata": {
    "colab": {},
    "colab_type": "code",
    "id": "HXabxwLAbVNR"
   },
   "outputs": [],
   "source": [
    "labels_f={0:\t'T-shirt/top',\n",
    "1:\t'Trouser',\n",
    "2:\t'Pullover',\n",
    "3:\t'Dress',\n",
    "4:\t'Coat',\n",
    "5:\t'Sandal',\n",
    "6:\t'Shirt',\n",
    "7:\t'Sneaker',\n",
    "8:\t'Bag',\n",
    "9\t:'Ankle boot'}"
   ]
  },
  {
   "cell_type": "code",
   "execution_count": 5,
   "metadata": {
    "ExecuteTime": {
     "end_time": "2020-02-14T21:24:46.737850Z",
     "start_time": "2020-02-14T21:24:46.732575Z"
    },
    "colab": {
     "base_uri": "https://localhost:8080/",
     "height": 298
    },
    "colab_type": "code",
    "id": "1dAXZV3Qd5uV",
    "outputId": "77a76b11-6eff-43c8-b59a-0c159d16b349"
   },
   "outputs": [
    {
     "data": {
      "text/plain": [
       "<matplotlib.image.AxesImage at 0x23dbd81ee48>"
      ]
     },
     "execution_count": 5,
     "metadata": {},
     "output_type": "execute_result"
    },
    {
     "data": {
      "image/png": "[encoded data removed]",
      "text/plain": [
       "<Figure size 432x288 with 1 Axes>"
      ]
     },
     "metadata": {
      "needs_background": "light"
     },
     "output_type": "display_data"
    }
   ],
   "source": [
    "#Fmnist_train[0][0].reshape(28,28)#.shape\n",
    "i=135\n",
    "plt.title(labels_f[Fmnist_test[i][1]])\n",
    "plt.imshow(Fmnist_test[i][0].numpy().reshape((28,28)), cmap='gray')"
   ]
  },
  {
   "cell_type": "code",
   "execution_count": 0,
   "metadata": {
    "colab": {},
    "colab_type": "code",
    "id": "xKmSszr-PRUF"
   },
   "outputs": [],
   "source": [
    "#Option I: LeNet\n",
    "model = nn.Sequential(\n",
    "    nn.Conv2d(in_channels=1, out_channels=6, kernel_size=5, padding=2),\n",
    "    nn.ReLU(),\n",
    "    nn.MaxPool2d(2, stride=2),\n",
    "    nn.Conv2d(6, 12, kernel_size=5),\n",
    "    nn.ReLU(),\n",
    "    nn.MaxPool2d(2, stride=2),\n",
    "    nn.Flatten(),\n",
    "    nn.Linear(300, 80),\n",
    "    nn.ReLU(),\n",
    "    nn.Linear(80, 10)\n",
    ")\n",
    "\n",
    "loss = torch.nn.CrossEntropyLoss(reduction='sum')\n",
    "#trainer = torch.optim.Adam(model.parameters(), lr=0.001)\n",
    "trainer = torch.optim.Adam(model.parameters())"
   ]
  },
  {
   "cell_type": "code",
   "execution_count": 35,
   "metadata": {
    "colab": {},
    "colab_type": "code",
    "id": "3UUsOUl4_HWT"
   },
   "outputs": [],
   "source": [
    "#Option II: LeNet Another classification head\n",
    "model = nn.Sequential(\n",
    "    nn.Conv2d(in_channels=1, out_channels=6, kernel_size=5, padding=2),\n",
    "    nn.ReLU(),\n",
    "    nn.MaxPool2d(2, stride=2),\n",
    "    nn.Conv2d(6, 12, kernel_size=5),\n",
    "    nn.ReLU(),\n",
    "    nn.MaxPool2d(2, stride=2),\n",
    "    nn.Flatten(),\n",
    "\n",
    "    #torch.nn.BatchNorm1d(num_features=300),\n",
    "    #torch.nn.Dropout(0.3),\n",
    "    torch.nn.Linear(300, 150),\n",
    "    torch.nn.ReLU(),\n",
    "\n",
    "    #torch.nn.BatchNorm1d(num_features=150),\n",
    "    torch.nn.Dropout(0.2),\n",
    "    torch.nn.Linear(150, 80),\n",
    "    torch.nn.ReLU(),\n",
    "\n",
    "    #torch.nn.BatchNorm1d(num_features=80),\n",
    "    torch.nn.Dropout(0.2),\n",
    "    torch.nn.Linear(80, 10)\n",
    ")\n",
    "\n",
    "loss = torch.nn.CrossEntropyLoss(reduction='sum')\n",
    "#trainer = torch.optim.Adam(model.parameters(), lr=0.001)\n",
    "trainer = torch.optim.Adam(model.parameters())\n"
   ]
  },
  {
   "cell_type": "code",
   "execution_count": 36,
   "metadata": {
    "colab": {
     "base_uri": "https://localhost:8080/",
     "height": 269
    },
    "colab_type": "code",
    "id": "SXlvkaH34slF",
    "outputId": "951b9cbb-7187-486b-cb07-4e9fc66f5057"
   },
   "outputs": [
    {
     "name": "stdout",
     "output_type": "stream",
     "text": [
      "torch.Size([1, 1, 28, 28])\n",
      "Layer Conv2d(1, 6, kernel_size=(5, 5), stride=(1, 1), padding=(2, 2)). X shape: torch.Size([1, 6, 28, 28])\n",
      "Layer ReLU(). X shape: torch.Size([1, 6, 28, 28])\n",
      "Layer MaxPool2d(kernel_size=2, stride=2, padding=0, dilation=1, ceil_mode=False). X shape: torch.Size([1, 6, 14, 14])\n",
      "Layer Conv2d(6, 12, kernel_size=(5, 5), stride=(1, 1)). X shape: torch.Size([1, 12, 10, 10])\n",
      "Layer ReLU(). X shape: torch.Size([1, 12, 10, 10])\n",
      "Layer MaxPool2d(kernel_size=2, stride=2, padding=0, dilation=1, ceil_mode=False). X shape: torch.Size([1, 12, 5, 5])\n",
      "Layer Flatten(). X shape: torch.Size([1, 300])\n",
      "Layer Linear(in_features=300, out_features=150, bias=True). X shape: torch.Size([1, 150])\n",
      "Layer ReLU(). X shape: torch.Size([1, 150])\n",
      "Layer Dropout(p=0.2, inplace=False). X shape: torch.Size([1, 150])\n",
      "Layer Linear(in_features=150, out_features=80, bias=True). X shape: torch.Size([1, 80])\n",
      "Layer ReLU(). X shape: torch.Size([1, 80])\n",
      "Layer Dropout(p=0.2, inplace=False). X shape: torch.Size([1, 80])\n",
      "Layer Linear(in_features=80, out_features=10, bias=True). X shape: torch.Size([1, 10])\n"
     ]
    }
   ],
   "source": [
    "X = Fmnist_train[0][0]\n",
    "X = X.reshape(1, 1, 28, 28)\n",
    "print(X.shape)\n",
    "for l in model:\n",
    "    X = l(X)\n",
    "    print(\"Layer {}. X shape: {}\".format(l, X.shape))"
   ]
  },
  {
   "cell_type": "code",
   "execution_count": 37,
   "metadata": {
    "colab": {},
    "colab_type": "code",
    "id": "PTwkv4Zg3Xqw"
   },
   "outputs": [],
   "source": [
    "dev = torch.device(\"cuda\") if torch.cuda.is_available() else torch.device(\"cpu\")"
   ]
  },
  {
   "cell_type": "code",
   "execution_count": 38,
   "metadata": {
    "colab": {
     "base_uri": "https://localhost:8080/",
     "height": 34
    },
    "colab_type": "code",
    "id": "NF_010Sa3c91",
    "outputId": "7bdc1ec4-8ab1-46d9-a9a7-8d2f1fc5ed95"
   },
   "outputs": [
    {
     "name": "stdout",
     "output_type": "stream",
     "text": [
      "True cuda\n"
     ]
    }
   ],
   "source": [
    "print(torch.cuda.is_available(), dev)"
   ]
  },
  {
   "cell_type": "code",
   "execution_count": 39,
   "metadata": {
    "colab": {},
    "colab_type": "code",
    "id": "OaOeeJQo3rgW"
   },
   "outputs": [],
   "source": [
    "model = model.to(dev)"
   ]
  },
  {
   "cell_type": "code",
   "execution_count": 40,
   "metadata": {
    "ExecuteTime": {
     "end_time": "2020-02-14T21:27:36.496823Z",
     "start_time": "2020-02-14T21:27:36.493194Z"
    },
    "colab": {},
    "colab_type": "code",
    "id": "CHcmWw1nd5uZ"
   },
   "outputs": [],
   "source": [
    "train, test = torch.utils.data.DataLoader(Fmnist_train, 256, shuffle=True), torch.utils.data.DataLoader(Fmnist_test, 256)"
   ]
  },
  {
   "cell_type": "code",
   "execution_count": 42,
   "metadata": {
    "ExecuteTime": {
     "end_time": "2020-02-14T21:36:31.234369Z",
     "start_time": "2020-02-14T21:35:12.487111Z"
    },
    "colab": {
     "base_uri": "https://localhost:8080/",
     "height": 1000
    },
    "colab_type": "code",
    "id": "ugNG-TNrd5ub",
    "outputId": "8f654cfa-929c-41cd-fb1f-64191af220f0"
   },
   "outputs": [
    {
     "name": "stdout",
     "output_type": "stream",
     "text": [
      "epoch 0, took: 6.743\n",
      "train -> loss: 0.402, acc: 0.853\n",
      "test -> loss: 0.389, acc: 0.859\n",
      "\n",
      "epoch 1, took: 6.635\n",
      "train -> loss: 0.379, acc: 0.861\n",
      "test -> loss: 0.363, acc: 0.870\n",
      "\n",
      "epoch 2, took: 6.607\n",
      "train -> loss: 0.358, acc: 0.870\n",
      "test -> loss: 0.348, acc: 0.874\n",
      "\n",
      "epoch 3, took: 6.633\n",
      "train -> loss: 0.344, acc: 0.873\n",
      "test -> loss: 0.334, acc: 0.881\n",
      "\n",
      "epoch 4, took: 6.624\n",
      "train -> loss: 0.332, acc: 0.880\n",
      "test -> loss: 0.334, acc: 0.876\n",
      "\n",
      "epoch 5, took: 6.616\n",
      "train -> loss: 0.321, acc: 0.883\n",
      "test -> loss: 0.327, acc: 0.880\n",
      "\n",
      "epoch 6, took: 6.727\n",
      "train -> loss: 0.311, acc: 0.887\n",
      "test -> loss: 0.316, acc: 0.886\n",
      "\n",
      "epoch 7, took: 6.658\n",
      "train -> loss: 0.303, acc: 0.888\n",
      "test -> loss: 0.313, acc: 0.887\n",
      "\n",
      "epoch 8, took: 6.623\n",
      "train -> loss: 0.295, acc: 0.892\n",
      "test -> loss: 0.314, acc: 0.884\n",
      "\n",
      "epoch 9, took: 6.742\n",
      "train -> loss: 0.288, acc: 0.894\n",
      "test -> loss: 0.300, acc: 0.891\n",
      "\n",
      "epoch 10, took: 6.623\n",
      "train -> loss: 0.280, acc: 0.896\n",
      "test -> loss: 0.296, acc: 0.893\n",
      "\n",
      "epoch 11, took: 6.644\n",
      "train -> loss: 0.273, acc: 0.898\n",
      "test -> loss: 0.301, acc: 0.891\n",
      "\n",
      "epoch 12, took: 6.686\n",
      "train -> loss: 0.270, acc: 0.902\n",
      "test -> loss: 0.289, acc: 0.896\n",
      "\n",
      "epoch 13, took: 6.671\n",
      "train -> loss: 0.262, acc: 0.904\n",
      "test -> loss: 0.289, acc: 0.895\n",
      "\n",
      "epoch 14, took: 6.692\n",
      "train -> loss: 0.257, acc: 0.905\n",
      "test -> loss: 0.288, acc: 0.895\n",
      "\n",
      "epoch 15, took: 6.668\n",
      "train -> loss: 0.250, acc: 0.908\n",
      "test -> loss: 0.286, acc: 0.897\n",
      "\n",
      "epoch 16, took: 6.635\n",
      "train -> loss: 0.248, acc: 0.908\n",
      "test -> loss: 0.279, acc: 0.901\n",
      "\n",
      "epoch 17, took: 6.708\n",
      "train -> loss: 0.242, acc: 0.911\n",
      "test -> loss: 0.282, acc: 0.897\n",
      "\n",
      "epoch 18, took: 6.680\n",
      "train -> loss: 0.239, acc: 0.912\n",
      "test -> loss: 0.280, acc: 0.901\n",
      "\n",
      "epoch 19, took: 6.684\n",
      "train -> loss: 0.236, acc: 0.912\n",
      "test -> loss: 0.279, acc: 0.900\n",
      "\n"
     ]
    }
   ],
   "source": [
    "num_epochs = 20\n",
    "for epoch in range(0, num_epochs):\n",
    "    start, train_loss, train_acc, train_n, test_loss, test_acc, test_n = time.time(), 0., 0., 0, 0., 0., 0\n",
    "    \n",
    "    model.train()\n",
    "    for X, y in train:\n",
    "        X=X.to(dev)\n",
    "        y=y.to(dev)\n",
    "        trainer.zero_grad()\n",
    "        y_hat = model.forward(X)\n",
    "        l = loss(y_hat, y)\n",
    "        l.backward()\n",
    "        trainer.step()\n",
    "        train_loss += l.item()\n",
    "        train_acc += (y_hat.argmax(dim=1) == y).sum().item()\n",
    "        train_n += len(X)\n",
    "    \n",
    "    model.eval()\n",
    "    for X, y in test:\n",
    "        X=X.to(dev)\n",
    "        y=y.to(dev)\n",
    "        y_hat = model.forward(X)\n",
    "        l = loss(y_hat, y)\n",
    "        test_loss += l.item()\n",
    "        test_acc += (y_hat.argmax(dim=1) == y).sum().item()\n",
    "        test_n += len(X)   \n",
    "        \n",
    "    print(\"\"\"epoch {}, took: {:.3f}\n",
    "train -> loss: {:.3f}, acc: {:.3f}\n",
    "test -> loss: {:.3f}, acc: {:.3f}\n",
    "\"\"\".format(epoch, time.time() - start, train_loss / train_n, train_acc / train_n,\n",
    "       test_loss / test_n, test_acc / test_n))\n"
   ]
  },
  {
   "cell_type": "code",
   "execution_count": 43,
   "metadata": {
    "colab": {
     "base_uri": "https://localhost:8080/",
     "height": 34
    },
    "colab_type": "code",
    "id": "hH4s1K5OvFRR",
    "outputId": "957970c2-9d17-493d-9802-dcac458c094b"
   },
   "outputs": [
    {
     "data": {
      "text/plain": [
       "(10000, tensor([9, 2, 1,  ..., 8, 1, 5], device='cuda:0'))"
      ]
     },
     "execution_count": 43,
     "metadata": {},
     "output_type": "execute_result"
    }
   ],
   "source": [
    "#y_pred=torch.Tensor([1], dtypes=torch.int64)\n",
    "y_pred=torch.zeros((1), dtype=torch.int64).to(dev)\n",
    "y_true=torch.zeros((1), dtype=torch.int64).to(dev)\n",
    "model.eval()\n",
    "for X, y in test:\n",
    "    X=X.to(dev)\n",
    "    y=y.to(dev)  \n",
    "    #pass\n",
    "    #y_hat = model.forward(X)\n",
    "    y_hat = model(X)\n",
    "    y_hat=y_hat.to(dev)\n",
    "    #print(y_pred.shape, torch.argmax(y_hat, dim=1).shape)\n",
    "    pred_int=torch.argmax(y_hat, dim=1).to(dev)\n",
    "    #print(y_pred.device, pred_int.device)\n",
    "    y_pred=torch.cat((y_pred, pred_int), axis=0)\n",
    "    y_true=torch.cat((y_true, y), axis=0)\n",
    "y_pred=y_pred[1:]\n",
    "y_true=y_true[1:]\n",
    "len(y_pred), y_pred\n",
    "#for i in test:\n",
    "#  print(i[1])"
   ]
  },
  {
   "cell_type": "code",
   "execution_count": 44,
   "metadata": {
    "colab": {
     "base_uri": "https://localhost:8080/",
     "height": 34
    },
    "colab_type": "code",
    "id": "2UgMxwbADKNW",
    "outputId": "c3918048-469a-4ecd-ecc4-1df0d56ee087"
   },
   "outputs": [
    {
     "name": "stdout",
     "output_type": "stream",
     "text": [
      "validation accuracy= 0.8999\n"
     ]
    }
   ],
   "source": [
    "print('validation accuracy=',(y_pred == y_true).sum().item()/len(y_true))"
   ]
  },
  {
   "cell_type": "code",
   "execution_count": 0,
   "metadata": {
    "colab": {},
    "colab_type": "code",
    "id": "82ZAA0LPjYwf"
   },
   "outputs": [],
   "source": [
    "#list(labels_f.values())"
   ]
  },
  {
   "cell_type": "code",
   "execution_count": 46,
   "metadata": {
    "colab": {
     "base_uri": "https://localhost:8080/",
     "height": 470
    },
    "colab_type": "code",
    "id": "JjyOvpvSmQ6l",
    "outputId": "776d1bea-e99d-4ea3-a360-1a18601b45bb"
   },
   "outputs": [
    {
     "name": "stdout",
     "output_type": "stream",
     "text": [
      "              precision    recall  f1-score   support\n",
      "\n",
      " T-shirt/top       0.82      0.89      0.85      1000\n",
      "     Trouser       1.00      0.97      0.98      1000\n",
      "    Pullover       0.84      0.85      0.85      1000\n",
      "       Dress       0.86      0.93      0.89      1000\n",
      "        Coat       0.86      0.80      0.83      1000\n",
      "      Sandal       0.99      0.98      0.98      1000\n",
      "       Shirt       0.74      0.69      0.72      1000\n",
      "     Sneaker       0.96      0.94      0.95      1000\n",
      "         Bag       0.98      0.97      0.98      1000\n",
      "  Ankle boot       0.95      0.98      0.96      1000\n",
      "\n",
      "    accuracy                           0.90     10000\n",
      "   macro avg       0.90      0.90      0.90     10000\n",
      "weighted avg       0.90      0.90      0.90     10000\n",
      "\n",
      "[[885   0   8  33   3   1  63   0   7   0]\n",
      " [  2 973   0  18   2   0   3   0   2   0]\n",
      " [ 23   0 850  11  49   0  67   0   0   0]\n",
      " [ 14   2   7 927  20   0  27   0   3   0]\n",
      " [  1   1  77  43 801   0  75   0   2   0]\n",
      " [  0   0   0   0   0 977   0  18   0   5]\n",
      " [146   0  65  36  56   0 692   0   5   0]\n",
      " [  0   0   0   0   0   6   0 944   0  50]\n",
      " [  9   1   1   4   2   1   4   3 974   1]\n",
      " [  1   0   0   0   0   3   0  20   0 976]]\n"
     ]
    }
   ],
   "source": [
    "from sklearn.metrics import classification_report, confusion_matrix\n",
    "print(classification_report(y_true.cpu(), y_pred.cpu()  , target_names=list(labels_f.values()), digits=2))\n",
    "print(confusion_matrix(y_true.cpu(), y_pred.cpu(),))#, labels=list(labels_f.values())))"
   ]
  },
  {
   "cell_type": "code",
   "execution_count": 0,
   "metadata": {
    "colab": {},
    "colab_type": "code",
    "id": "UNRr1CVxn3pb"
   },
   "outputs": [],
   "source": [
    "# \"Shirt\" определяется хуже всего\n",
    "#конец решения"
   ]
  },
  {
   "cell_type": "code",
   "execution_count": 0,
   "metadata": {
    "colab": {},
    "colab_type": "code",
    "id": "tMThDpxKR7bo"
   },
   "outputs": [],
   "source": []
  },
  {
   "cell_type": "code",
   "execution_count": 0,
   "metadata": {
    "colab": {},
    "colab_type": "code",
    "id": "mV-py19iR7jt"
   },
   "outputs": [],
   "source": []
  },
  {
   "cell_type": "code",
   "execution_count": 0,
   "metadata": {
    "colab": {},
    "colab_type": "code",
    "id": "UE00Q4hlR7rW"
   },
   "outputs": [],
   "source": []
  },
  {
   "cell_type": "code",
   "execution_count": 47,
   "metadata": {
    "colab": {
     "base_uri": "https://localhost:8080/",
     "height": 34
    },
    "colab_type": "code",
    "id": "pmN7qzc1IA8H",
    "outputId": "6edc411b-94ae-4a19-e47d-7a37ec7fb117"
   },
   "outputs": [
    {
     "data": {
      "text/plain": [
       "(1000, 308)"
      ]
     },
     "execution_count": 47,
     "metadata": {},
     "output_type": "execute_result"
    }
   ],
   "source": [
    "#Смотрю на то, что неверно классифицировалось как футболки\n",
    "shirt_arr=[]#n=0\n",
    "shirt_wrong_ind=[]\n",
    "for i in range(len(y_true.cpu())):\n",
    "    if y_true[i]==6:\n",
    "      shirt_arr.append(i)\n",
    "      if y_true[i]!=y_pred[i]:\n",
    "        shirt_wrong_ind.append(i)\n",
    "len(shirt_arr), len(shirt_wrong_ind)"
   ]
  },
  {
   "cell_type": "code",
   "execution_count": 48,
   "metadata": {
    "colab": {
     "base_uri": "https://localhost:8080/",
     "height": 1000
    },
    "colab_type": "code",
    "id": "FHN2TE4zLvXq",
    "outputId": "df140223-9d3c-47ca-f78f-6a1be218659b"
   },
   "outputs": [
    {
     "data": {
      "image/png": "[encoded data removed]",
      "text/plain": [
       "<Figure size 1440x1440 with 25 Axes>"
      ]
     },
     "metadata": {},
     "output_type": "display_data"
    }
   ],
   "source": [
    "fig, axs = plt.subplots(5,5, figsize=(20, 20), facecolor='w', edgecolor='k')\n",
    "fig.subplots_adjust(hspace = .5, wspace=.001)\n",
    "\n",
    "axs = axs.ravel()\n",
    "\n",
    "for j in range(25):\n",
    "    i=shirt_wrong_ind[j]\n",
    "    axs[j].imshow(Fmnist_test[i][0].numpy().reshape((28,28)), cmap='gray')\n",
    "    axs[j].set_title(str(i)+'_'+labels_f[y_pred[i].item()])"
   ]
  },
  {
   "cell_type": "code",
   "execution_count": 0,
   "metadata": {
    "colab": {},
    "colab_type": "code",
    "id": "liXmKzlxNElx"
   },
   "outputs": [],
   "source": [
    "# Кажется, что сложный класс\n",
    "# Конец решения"
   ]
  }
 ],
 "metadata": {
  "colab": {
   "collapsed_sections": [],
   "name": "4_Fashion_MNIST_conv_torch.ipynb",
   "provenance": []
  },
  "kernelspec": {
   "display_name": "Python 3",
   "language": "python",
   "name": "python3"
  },
  "language_info": {
   "codemirror_mode": {
    "name": "ipython",
    "version": 3
   },
   "file_extension": ".py",
   "mimetype": "text/x-python",
   "name": "python",
   "nbconvert_exporter": "python",
   "pygments_lexer": "ipython3",
   "version": "3.7.9"
  }
 },
 "nbformat": 4,
 "nbformat_minor": 1
}
