{
  "nbformat": 4,
  "nbformat_minor": 0,
  "metadata": {
    "accelerator": "GPU",
    "colab": {
      "name": "5_modern_conv_nets.ipynb",
      "provenance": [],
      "collapsed_sections": []
    },
    "kernelspec": {
      "display_name": "Python 3",
      "language": "python",
      "name": "python3"
    },
    "language_info": {
      "codemirror_mode": {
        "name": "ipython",
        "version": 3
      },
      "file_extension": ".py",
      "mimetype": "text/x-python",
      "name": "python",
      "nbconvert_exporter": "python",
      "pygments_lexer": "ipython3",
      "version": "3.7.9"
    },
    "widgets": {
      "application/vnd.jupyter.widget-state+json": {
        "17b639370fff4be19b1d75f96b4d16af": {
          "model_module": "@jupyter-widgets/controls",
          "model_name": "HBoxModel",
          "state": {
            "_view_name": "HBoxView",
            "_dom_classes": [],
            "_model_name": "HBoxModel",
            "_view_module": "@jupyter-widgets/controls",
            "_model_module_version": "1.5.0",
            "_view_count": null,
            "_view_module_version": "1.5.0",
            "box_style": "",
            "layout": "IPY_MODEL_fcff4b4d1ae446f7a7b034b1d4b4e3e2",
            "_model_module": "@jupyter-widgets/controls",
            "children": [
              "IPY_MODEL_b5d048c4877f49909c0e1e24bbfa8a01",
              "IPY_MODEL_30d662540ac24f3ca02c1c91673016ff"
            ]
          }
        },
        "fcff4b4d1ae446f7a7b034b1d4b4e3e2": {
          "model_module": "@jupyter-widgets/base",
          "model_name": "LayoutModel",
          "state": {
            "_view_name": "LayoutView",
            "grid_template_rows": null,
            "right": null,
            "justify_content": null,
            "_view_module": "@jupyter-widgets/base",
            "overflow": null,
            "_model_module_version": "1.2.0",
            "_view_count": null,
            "flex_flow": null,
            "width": null,
            "min_width": null,
            "border": null,
            "align_items": null,
            "bottom": null,
            "_model_module": "@jupyter-widgets/base",
            "top": null,
            "grid_column": null,
            "overflow_y": null,
            "overflow_x": null,
            "grid_auto_flow": null,
            "grid_area": null,
            "grid_template_columns": null,
            "flex": null,
            "_model_name": "LayoutModel",
            "justify_items": null,
            "grid_row": null,
            "max_height": null,
            "align_content": null,
            "visibility": null,
            "align_self": null,
            "height": null,
            "min_height": null,
            "padding": null,
            "grid_auto_rows": null,
            "grid_gap": null,
            "max_width": null,
            "order": null,
            "_view_module_version": "1.2.0",
            "grid_template_areas": null,
            "object_position": null,
            "object_fit": null,
            "grid_auto_columns": null,
            "margin": null,
            "display": null,
            "left": null
          }
        },
        "b5d048c4877f49909c0e1e24bbfa8a01": {
          "model_module": "@jupyter-widgets/controls",
          "model_name": "FloatProgressModel",
          "state": {
            "_view_name": "ProgressView",
            "style": "IPY_MODEL_78e92794c2c64d0abb80e761a38b782a",
            "_dom_classes": [],
            "description": "100%",
            "_model_name": "FloatProgressModel",
            "bar_style": "success",
            "max": 46827520,
            "_view_module": "@jupyter-widgets/controls",
            "_model_module_version": "1.5.0",
            "value": 46827520,
            "_view_count": null,
            "_view_module_version": "1.5.0",
            "orientation": "horizontal",
            "min": 0,
            "description_tooltip": null,
            "_model_module": "@jupyter-widgets/controls",
            "layout": "IPY_MODEL_902aa3222ca14196ad7b1495a5053805"
          }
        },
        "30d662540ac24f3ca02c1c91673016ff": {
          "model_module": "@jupyter-widgets/controls",
          "model_name": "HTMLModel",
          "state": {
            "_view_name": "HTMLView",
            "style": "IPY_MODEL_b78370bd715b40e8bd9fc384dd6d1b9d",
            "_dom_classes": [],
            "description": "",
            "_model_name": "HTMLModel",
            "placeholder": "​",
            "_view_module": "@jupyter-widgets/controls",
            "_model_module_version": "1.5.0",
            "value": " 44.7M/44.7M [01:44&lt;00:00, 450kB/s]",
            "_view_count": null,
            "_view_module_version": "1.5.0",
            "description_tooltip": null,
            "_model_module": "@jupyter-widgets/controls",
            "layout": "IPY_MODEL_32eeaac0cc1d4b8aa7d491baf338975e"
          }
        },
        "78e92794c2c64d0abb80e761a38b782a": {
          "model_module": "@jupyter-widgets/controls",
          "model_name": "ProgressStyleModel",
          "state": {
            "_view_name": "StyleView",
            "_model_name": "ProgressStyleModel",
            "description_width": "initial",
            "_view_module": "@jupyter-widgets/base",
            "_model_module_version": "1.5.0",
            "_view_count": null,
            "_view_module_version": "1.2.0",
            "bar_color": null,
            "_model_module": "@jupyter-widgets/controls"
          }
        },
        "902aa3222ca14196ad7b1495a5053805": {
          "model_module": "@jupyter-widgets/base",
          "model_name": "LayoutModel",
          "state": {
            "_view_name": "LayoutView",
            "grid_template_rows": null,
            "right": null,
            "justify_content": null,
            "_view_module": "@jupyter-widgets/base",
            "overflow": null,
            "_model_module_version": "1.2.0",
            "_view_count": null,
            "flex_flow": null,
            "width": null,
            "min_width": null,
            "border": null,
            "align_items": null,
            "bottom": null,
            "_model_module": "@jupyter-widgets/base",
            "top": null,
            "grid_column": null,
            "overflow_y": null,
            "overflow_x": null,
            "grid_auto_flow": null,
            "grid_area": null,
            "grid_template_columns": null,
            "flex": null,
            "_model_name": "LayoutModel",
            "justify_items": null,
            "grid_row": null,
            "max_height": null,
            "align_content": null,
            "visibility": null,
            "align_self": null,
            "height": null,
            "min_height": null,
            "padding": null,
            "grid_auto_rows": null,
            "grid_gap": null,
            "max_width": null,
            "order": null,
            "_view_module_version": "1.2.0",
            "grid_template_areas": null,
            "object_position": null,
            "object_fit": null,
            "grid_auto_columns": null,
            "margin": null,
            "display": null,
            "left": null
          }
        },
        "b78370bd715b40e8bd9fc384dd6d1b9d": {
          "model_module": "@jupyter-widgets/controls",
          "model_name": "DescriptionStyleModel",
          "state": {
            "_view_name": "StyleView",
            "_model_name": "DescriptionStyleModel",
            "description_width": "",
            "_view_module": "@jupyter-widgets/base",
            "_model_module_version": "1.5.0",
            "_view_count": null,
            "_view_module_version": "1.2.0",
            "_model_module": "@jupyter-widgets/controls"
          }
        },
        "32eeaac0cc1d4b8aa7d491baf338975e": {
          "model_module": "@jupyter-widgets/base",
          "model_name": "LayoutModel",
          "state": {
            "_view_name": "LayoutView",
            "grid_template_rows": null,
            "right": null,
            "justify_content": null,
            "_view_module": "@jupyter-widgets/base",
            "overflow": null,
            "_model_module_version": "1.2.0",
            "_view_count": null,
            "flex_flow": null,
            "width": null,
            "min_width": null,
            "border": null,
            "align_items": null,
            "bottom": null,
            "_model_module": "@jupyter-widgets/base",
            "top": null,
            "grid_column": null,
            "overflow_y": null,
            "overflow_x": null,
            "grid_auto_flow": null,
            "grid_area": null,
            "grid_template_columns": null,
            "flex": null,
            "_model_name": "LayoutModel",
            "justify_items": null,
            "grid_row": null,
            "max_height": null,
            "align_content": null,
            "visibility": null,
            "align_self": null,
            "height": null,
            "min_height": null,
            "padding": null,
            "grid_auto_rows": null,
            "grid_gap": null,
            "max_width": null,
            "order": null,
            "_view_module_version": "1.2.0",
            "grid_template_areas": null,
            "object_position": null,
            "object_fit": null,
            "grid_auto_columns": null,
            "margin": null,
            "display": null,
            "left": null
          }
        },
        "336268b03bdf42a998b837a09d85fa2f": {
          "model_module": "@jupyter-widgets/controls",
          "model_name": "HBoxModel",
          "state": {
            "_view_name": "HBoxView",
            "_dom_classes": [],
            "_model_name": "HBoxModel",
            "_view_module": "@jupyter-widgets/controls",
            "_model_module_version": "1.5.0",
            "_view_count": null,
            "_view_module_version": "1.5.0",
            "box_style": "",
            "layout": "IPY_MODEL_baa3be07b2604fcbb7beabcfedc3d088",
            "_model_module": "@jupyter-widgets/controls",
            "children": [
              "IPY_MODEL_2987e53dd7c54f93b31a0fd9cd7cee1e",
              "IPY_MODEL_bbd88522e01a4182bf5258a3dcb48f29"
            ]
          }
        },
        "baa3be07b2604fcbb7beabcfedc3d088": {
          "model_module": "@jupyter-widgets/base",
          "model_name": "LayoutModel",
          "state": {
            "_view_name": "LayoutView",
            "grid_template_rows": null,
            "right": null,
            "justify_content": null,
            "_view_module": "@jupyter-widgets/base",
            "overflow": null,
            "_model_module_version": "1.2.0",
            "_view_count": null,
            "flex_flow": null,
            "width": null,
            "min_width": null,
            "border": null,
            "align_items": null,
            "bottom": null,
            "_model_module": "@jupyter-widgets/base",
            "top": null,
            "grid_column": null,
            "overflow_y": null,
            "overflow_x": null,
            "grid_auto_flow": null,
            "grid_area": null,
            "grid_template_columns": null,
            "flex": null,
            "_model_name": "LayoutModel",
            "justify_items": null,
            "grid_row": null,
            "max_height": null,
            "align_content": null,
            "visibility": null,
            "align_self": null,
            "height": null,
            "min_height": null,
            "padding": null,
            "grid_auto_rows": null,
            "grid_gap": null,
            "max_width": null,
            "order": null,
            "_view_module_version": "1.2.0",
            "grid_template_areas": null,
            "object_position": null,
            "object_fit": null,
            "grid_auto_columns": null,
            "margin": null,
            "display": null,
            "left": null
          }
        },
        "2987e53dd7c54f93b31a0fd9cd7cee1e": {
          "model_module": "@jupyter-widgets/controls",
          "model_name": "FloatProgressModel",
          "state": {
            "_view_name": "ProgressView",
            "style": "IPY_MODEL_1b36fd4087f244e2aca2e5b9ce30c505",
            "_dom_classes": [],
            "description": "100%",
            "_model_name": "FloatProgressModel",
            "bar_style": "success",
            "max": 553433881,
            "_view_module": "@jupyter-widgets/controls",
            "_model_module_version": "1.5.0",
            "value": 553433881,
            "_view_count": null,
            "_view_module_version": "1.5.0",
            "orientation": "horizontal",
            "min": 0,
            "description_tooltip": null,
            "_model_module": "@jupyter-widgets/controls",
            "layout": "IPY_MODEL_90996a98da5b4467a6ad83ca7ef6452c"
          }
        },
        "bbd88522e01a4182bf5258a3dcb48f29": {
          "model_module": "@jupyter-widgets/controls",
          "model_name": "HTMLModel",
          "state": {
            "_view_name": "HTMLView",
            "style": "IPY_MODEL_6c1f72a57f224993a10d609403d28e6d",
            "_dom_classes": [],
            "description": "",
            "_model_name": "HTMLModel",
            "placeholder": "​",
            "_view_module": "@jupyter-widgets/controls",
            "_model_module_version": "1.5.0",
            "value": " 528M/528M [00:02&lt;00:00, 262MB/s]",
            "_view_count": null,
            "_view_module_version": "1.5.0",
            "description_tooltip": null,
            "_model_module": "@jupyter-widgets/controls",
            "layout": "IPY_MODEL_32fb7c951d9241b59824c786fce675c6"
          }
        },
        "1b36fd4087f244e2aca2e5b9ce30c505": {
          "model_module": "@jupyter-widgets/controls",
          "model_name": "ProgressStyleModel",
          "state": {
            "_view_name": "StyleView",
            "_model_name": "ProgressStyleModel",
            "description_width": "initial",
            "_view_module": "@jupyter-widgets/base",
            "_model_module_version": "1.5.0",
            "_view_count": null,
            "_view_module_version": "1.2.0",
            "bar_color": null,
            "_model_module": "@jupyter-widgets/controls"
          }
        },
        "90996a98da5b4467a6ad83ca7ef6452c": {
          "model_module": "@jupyter-widgets/base",
          "model_name": "LayoutModel",
          "state": {
            "_view_name": "LayoutView",
            "grid_template_rows": null,
            "right": null,
            "justify_content": null,
            "_view_module": "@jupyter-widgets/base",
            "overflow": null,
            "_model_module_version": "1.2.0",
            "_view_count": null,
            "flex_flow": null,
            "width": null,
            "min_width": null,
            "border": null,
            "align_items": null,
            "bottom": null,
            "_model_module": "@jupyter-widgets/base",
            "top": null,
            "grid_column": null,
            "overflow_y": null,
            "overflow_x": null,
            "grid_auto_flow": null,
            "grid_area": null,
            "grid_template_columns": null,
            "flex": null,
            "_model_name": "LayoutModel",
            "justify_items": null,
            "grid_row": null,
            "max_height": null,
            "align_content": null,
            "visibility": null,
            "align_self": null,
            "height": null,
            "min_height": null,
            "padding": null,
            "grid_auto_rows": null,
            "grid_gap": null,
            "max_width": null,
            "order": null,
            "_view_module_version": "1.2.0",
            "grid_template_areas": null,
            "object_position": null,
            "object_fit": null,
            "grid_auto_columns": null,
            "margin": null,
            "display": null,
            "left": null
          }
        },
        "6c1f72a57f224993a10d609403d28e6d": {
          "model_module": "@jupyter-widgets/controls",
          "model_name": "DescriptionStyleModel",
          "state": {
            "_view_name": "StyleView",
            "_model_name": "DescriptionStyleModel",
            "description_width": "",
            "_view_module": "@jupyter-widgets/base",
            "_model_module_version": "1.5.0",
            "_view_count": null,
            "_view_module_version": "1.2.0",
            "_model_module": "@jupyter-widgets/controls"
          }
        },
        "32fb7c951d9241b59824c786fce675c6": {
          "model_module": "@jupyter-widgets/base",
          "model_name": "LayoutModel",
          "state": {
            "_view_name": "LayoutView",
            "grid_template_rows": null,
            "right": null,
            "justify_content": null,
            "_view_module": "@jupyter-widgets/base",
            "overflow": null,
            "_model_module_version": "1.2.0",
            "_view_count": null,
            "flex_flow": null,
            "width": null,
            "min_width": null,
            "border": null,
            "align_items": null,
            "bottom": null,
            "_model_module": "@jupyter-widgets/base",
            "top": null,
            "grid_column": null,
            "overflow_y": null,
            "overflow_x": null,
            "grid_auto_flow": null,
            "grid_area": null,
            "grid_template_columns": null,
            "flex": null,
            "_model_name": "LayoutModel",
            "justify_items": null,
            "grid_row": null,
            "max_height": null,
            "align_content": null,
            "visibility": null,
            "align_self": null,
            "height": null,
            "min_height": null,
            "padding": null,
            "grid_auto_rows": null,
            "grid_gap": null,
            "max_width": null,
            "order": null,
            "_view_module_version": "1.2.0",
            "grid_template_areas": null,
            "object_position": null,
            "object_fit": null,
            "grid_auto_columns": null,
            "margin": null,
            "display": null,
            "left": null
          }
        }
      }
    }
  },
  "cells": [
    {
      "cell_type": "code",
      "metadata": {
        "id": "x8armIWMik62"
      },
      "source": [
        "#Домашнее задание по лекции \"Современные сверточные архитектуры\" DLL-2"
      ],
      "execution_count": null,
      "outputs": []
    },
    {
      "cell_type": "code",
      "metadata": {
        "id": "maXY9IhmfRip"
      },
      "source": [
        ""
      ],
      "execution_count": null,
      "outputs": []
    },
    {
      "cell_type": "markdown",
      "metadata": {
        "id": "d56Yu0C9irZo"
      },
      "source": [
        "Основное задание\n",
        "Возьмите датасет https://www.kaggle.com/ajayrana/hymenoptera-data/kernels\n",
        "1.Обучите на нем модели ResNet 18 и VGG 16 с нуля (5-10 эпох)\n",
        "2.Обучите на нем модели ResNet 18 и VGG 16 с использованием FineTuning (5-10 эпох)\n",
        "3.Добавьте аугментацию данных к пункту 2\n",
        "\n",
        "Сравните качество всех 3 полученных подходов\n",
        "\n",
        "Задание со звездочкой\n",
        "Примените FineTuning ResNet 18 к FashionMnist. Удалось ли увидеть резкое увеличение качества?"
      ]
    },
    {
      "cell_type": "code",
      "metadata": {
        "id": "j8QgK2RSi64j"
      },
      "source": [
        "#https://www.kaggle.com/mnagao/pytorch-hymenoptera\n",
        "#!wget https://download.pytorch.org/tutorial/hymenoptera_data.zip"
      ],
      "execution_count": null,
      "outputs": []
    },
    {
      "cell_type": "code",
      "metadata": {
        "id": "MUwHQMU6jA69"
      },
      "source": [
        "import torch\n",
        "import torch.nn as nn\n",
        "import torch.optim as optim\n",
        "from torch.optim import lr_scheduler\n",
        "import numpy as np\n",
        "import torchvision\n",
        "from torchvision import datasets, models, transforms\n",
        "import matplotlib.pyplot as plt\n",
        "import time\n",
        "import os\n",
        "import copy\n",
        "\n",
        "plt.ion()   # interactive mode"
      ],
      "execution_count": 1,
      "outputs": []
    },
    {
      "cell_type": "code",
      "metadata": {
        "id": "R8Bmr-8AjPiv"
      },
      "source": [
        "import albumentations as A\n",
        "import cv2\n",
        "import pandas as pd"
      ],
      "execution_count": 2,
      "outputs": []
    },
    {
      "cell_type": "code",
      "metadata": {
        "id": "TsNrwQytTRqd"
      },
      "source": [
        "#import GPUtil"
      ],
      "execution_count": 3,
      "outputs": []
    },
    {
      "cell_type": "code",
      "metadata": {
        "id": "5cOwT3z7TRqe"
      },
      "source": [
        "#GPUtil.showUtilization()"
      ],
      "execution_count": 4,
      "outputs": []
    },
    {
      "cell_type": "code",
      "metadata": {
        "colab": {
          "base_uri": "https://localhost:8080/"
        },
        "id": "IOEHQ6qyn2t-",
        "outputId": "c012c210-ddb4-48c7-e4e9-f89db1282158"
      },
      "source": [
        "device = torch.device(\"cuda:0\" if torch.cuda.is_available() else \"cpu\")\n",
        "device"
      ],
      "execution_count": 5,
      "outputs": [
        {
          "output_type": "execute_result",
          "data": {
            "text/plain": [
              "device(type='cuda', index=0)"
            ]
          },
          "metadata": {
            "tags": []
          },
          "execution_count": 5
        }
      ]
    },
    {
      "cell_type": "code",
      "metadata": {
        "colab": {
          "base_uri": "https://localhost:8080/"
        },
        "id": "Se5XtOmGkxsn",
        "outputId": "94a70a55-3062-4e38-b7f5-34ac6409e750"
      },
      "source": [
        "from google.colab import drive\n",
        "drive.mount('/content/gdrive')"
      ],
      "execution_count": 6,
      "outputs": [
        {
          "output_type": "stream",
          "text": [
            "Mounted at /content/gdrive\n"
          ],
          "name": "stdout"
        }
      ]
    },
    {
      "cell_type": "code",
      "metadata": {
        "id": "YgsjSMdpoYiV"
      },
      "source": [
        "root_path = 'gdrive/My Drive/data_science/hymenoptera-data/'\n",
        "#root_path = 'C:/Users/zamarseny/Documents/data_science/DL2/DL_2-master/hymenoptera_data'\n",
        "#for i in os.listdir(root_path):\n",
        "#  print(i)"
      ],
      "execution_count": 7,
      "outputs": []
    },
    {
      "cell_type": "code",
      "metadata": {
        "colab": {
          "base_uri": "https://localhost:8080/"
        },
        "id": "T7MJNQ-CvFKH",
        "outputId": "efb89b51-7cc3-4029-b2fe-72aa0f84dbb6"
      },
      "source": [
        "!cd drive/\n",
        "!cd 'drive/My Drive'\n",
        "!cd /content/gdrive/MyDrive/data_science/hymenoptera_data\n",
        "#cd data_science/\n",
        "#cd hymenoptera_data/\n",
        "#!cd C:/Users/zamarseny/Documents/data_science/DL2/DL_2-master/hymenoptera_data"
      ],
      "execution_count": 12,
      "outputs": [
        {
          "output_type": "stream",
          "text": [
            "/bin/bash: line 0: cd: drive/: No such file or directory\n",
            "/bin/bash: line 0: cd: drive/My Drive: No such file or directory\n"
          ],
          "name": "stdout"
        }
      ]
    },
    {
      "cell_type": "code",
      "metadata": {
        "colab": {
          "base_uri": "https://localhost:8080/"
        },
        "id": "tvEc7xFZvWsm",
        "outputId": "b941f011-61f8-43fe-8d6c-90b21b0e5a65"
      },
      "source": [
        "!ls"
      ],
      "execution_count": 13,
      "outputs": [
        {
          "output_type": "stream",
          "text": [
            "gdrive\tsample_data\n"
          ],
          "name": "stdout"
        }
      ]
    },
    {
      "cell_type": "code",
      "metadata": {
        "id": "kWa4dXC0jr-x"
      },
      "source": [
        "data_transforms = {\n",
        "    'train': transforms.Compose([\n",
        "        transforms.Resize((224,224)),\n",
        "        #transforms.RandomResizedCrop(224),\n",
        "        #transforms.RandomHorizontalFlip(),\n",
        "        transforms.ToTensor(),\n",
        "        #transforms.Normalize([0.485, 0.456, 0.406], [0.229, 0.224, 0.225])\n",
        "    ]),\n",
        "    'val': transforms.Compose([\n",
        "        transforms.Resize((224,224)),\n",
        "        #transforms.CenterCrop(224),\n",
        "        transforms.ToTensor(),\n",
        "        #transforms.Normalize([0.485, 0.456, 0.406], [0.229, 0.224, 0.225])\n",
        "    ]),\n",
        "}\n",
        "\n",
        "data_dir = '/content/gdrive/MyDrive/data_science/hymenoptera_data/hymenoptera_data'\n",
        "#data_dir='C:/Users/zamarseny/Documents/data_science/DL2/DL_2-master/hymenoptera_data'\n",
        "image_datasets = {x: datasets.ImageFolder(os.path.join(data_dir, x),\n",
        "                                          data_transforms[x])\n",
        "                  for x in ['train', 'val']}\n",
        "dataloaders = {x: torch.utils.data.DataLoader(image_datasets[x], batch_size=4,\n",
        "                                             shuffle=True, num_workers=4)\n",
        "              for x in ['train', 'val']}\n",
        "dataset_sizes = {x: len(image_datasets[x]) for x in ['train', 'val']}\n",
        "class_names = image_datasets['train'].classes\n",
        "\n"
      ],
      "execution_count": 14,
      "outputs": []
    },
    {
      "cell_type": "code",
      "metadata": {
        "colab": {
          "base_uri": "https://localhost:8080/"
        },
        "id": "GAD9uktrkEtU",
        "outputId": "cf136e7d-5372-4803-fdd7-9fcbea99c857"
      },
      "source": [
        "class_names"
      ],
      "execution_count": 15,
      "outputs": [
        {
          "output_type": "execute_result",
          "data": {
            "text/plain": [
              "['ants', 'bees']"
            ]
          },
          "metadata": {
            "tags": []
          },
          "execution_count": 15
        }
      ]
    },
    {
      "cell_type": "code",
      "metadata": {
        "colab": {
          "base_uri": "https://localhost:8080/",
          "height": 165
        },
        "id": "DaIU_xW15mUL",
        "outputId": "7f2019a9-090a-475a-90f1-2f91b90c8cc5"
      },
      "source": [
        "def imshow(inp, title=None):\n",
        "    \"\"\"Imshow for Tensor.\"\"\"\n",
        "    inp = inp.numpy().transpose((1, 2, 0))\n",
        "    mean = np.array([0.485, 0.456, 0.406])\n",
        "    std = np.array([0.229, 0.224, 0.225])\n",
        "    inp = std * inp + mean\n",
        "    inp = np.clip(inp, 0, 1)\n",
        "    plt.imshow(inp)\n",
        "    if title is not None:\n",
        "        plt.title(title)\n",
        "    plt.pause(0.001)  # pause a bit so that plots are updated\n",
        "\n",
        "\n",
        "# Get a batch of training data\n",
        "inputs, classes = next(iter(dataloaders['train']))\n",
        "print(inputs.shape)\n",
        "\n",
        "# Make a grid from batch\n",
        "out = torchvision.utils.make_grid(inputs)\n",
        "\n",
        "imshow(out, title=[class_names[x] for x in classes])"
      ],
      "execution_count": 16,
      "outputs": [
        {
          "output_type": "stream",
          "text": [
            "torch.Size([4, 3, 224, 224])\n"
          ],
          "name": "stdout"
        },
        {
          "output_type": "display_data",
          "data": {
            "image/png": "[encoded data removed]",
            "text/plain": [
              "<Figure size 432x288 with 1 Axes>"
            ]
          },
          "metadata": {
            "tags": [],
            "needs_background": "light"
          }
        }
      ]
    },
    {
      "cell_type": "code",
      "metadata": {
        "id": "MLFnSehZ6Og4"
      },
      "source": [
        "#Training the model"
      ],
      "execution_count": 17,
      "outputs": []
    },
    {
      "cell_type": "code",
      "metadata": {
        "id": "oBbsiawZ6keP"
      },
      "source": [
        "def train_model(model, criterion, optimizer, scheduler, num_epochs=25):\n",
        "    since = time.time()\n",
        "\n",
        "    best_model_wts = copy.deepcopy(model.state_dict())\n",
        "    best_acc = 0.0\n",
        "\n",
        "    for epoch in range(num_epochs):\n",
        "        print('Epoch {}/{}'.format(epoch, num_epochs - 1))\n",
        "        print('-' * 10)\n",
        "\n",
        "        # Each epoch has a training and validation phase\n",
        "        for phase in ['train', 'val']:\n",
        "            if phase == 'train':\n",
        "                scheduler.step()\n",
        "                model.train()  # Set model to training mode\n",
        "            else:\n",
        "                model.eval()   # Set model to evaluate mode\n",
        "\n",
        "            running_loss = 0.0\n",
        "            running_corrects = 0\n",
        "\n",
        "            # Iterate over data.\n",
        "            for inputs, labels in dataloaders[phase]:\n",
        "                inputs = inputs.to(device)\n",
        "                labels = labels.to(device)\n",
        "\n",
        "                # zero the parameter gradients\n",
        "                optimizer.zero_grad()\n",
        "\n",
        "                # forward\n",
        "                # track history if only in train\n",
        "                with torch.set_grad_enabled(phase == 'train'):\n",
        "                    outputs = model(inputs)\n",
        "                    _, preds = torch.max(outputs, 1)\n",
        "                    loss = criterion(outputs, labels)\n",
        "\n",
        "                    # backward + optimize only if in training phase\n",
        "                    if phase == 'train':\n",
        "                        loss.backward()\n",
        "                        optimizer.step()\n",
        "\n",
        "                # statistics\n",
        "                running_loss += loss.item() * inputs.size(0)\n",
        "                running_corrects += torch.sum(preds == labels.data)\n",
        "\n",
        "            epoch_loss = running_loss / dataset_sizes[phase]\n",
        "            epoch_acc = running_corrects.double() / dataset_sizes[phase]\n",
        "\n",
        "            print('{} Loss: {:.4f} Acc: {:.4f}'.format(\n",
        "                phase, epoch_loss, epoch_acc))\n",
        "\n",
        "            # deep copy the model\n",
        "            if phase == 'val' and epoch_acc > best_acc:\n",
        "                best_acc = epoch_acc\n",
        "                best_model_wts = copy.deepcopy(model.state_dict())\n",
        "\n",
        "        print()\n",
        "\n",
        "    time_elapsed = time.time() - since\n",
        "    print('Training complete in {:.0f}m {:.0f}s'.format(\n",
        "        time_elapsed // 60, time_elapsed % 60))\n",
        "    print('Best val Acc: {:4f}'.format(best_acc))\n",
        "\n",
        "    # load best model weights\n",
        "    model.load_state_dict(best_model_wts)\n",
        "    return model, best_acc"
      ],
      "execution_count": 18,
      "outputs": []
    },
    {
      "cell_type": "code",
      "metadata": {
        "id": "F-3foFYW6kiH"
      },
      "source": [
        "def visualize_model(model, num_images=6):\n",
        "    was_training = model.training\n",
        "    model.eval()\n",
        "    images_so_far = 0\n",
        "    fig = plt.figure()\n",
        "\n",
        "    with torch.no_grad():\n",
        "        for i, (inputs, labels) in enumerate(dataloaders['val']):\n",
        "            inputs = inputs.to(device)\n",
        "            labels = labels.to(device)\n",
        "\n",
        "            outputs = model(inputs)\n",
        "            _, preds = torch.max(outputs, 1)\n",
        "\n",
        "            for j in range(inputs.size()[0]):\n",
        "                images_so_far += 1\n",
        "                ax = plt.subplot(num_images//2, 2, images_so_far)\n",
        "                ax.axis('off')\n",
        "                ax.set_title('predicted: {}'.format(class_names[preds[j]]))\n",
        "                imshow(inputs.cpu().data[j])\n",
        "\n",
        "                if images_so_far == num_images:\n",
        "                    model.train(mode=was_training)\n",
        "                    return\n",
        "        model.train(mode=was_training)"
      ],
      "execution_count": 19,
      "outputs": []
    },
    {
      "cell_type": "code",
      "metadata": {
        "id": "4RTs0fs16kmI"
      },
      "source": [
        "#model_ft = models.resnet18(pretrained=True)\n",
        "model_ft = models.resnet18(pretrained=False)\n",
        "num_ftrs = model_ft.fc.in_features\n",
        "model_ft.fc = nn.Linear(num_ftrs, 2)\n",
        "\n",
        "model_ft = model_ft.to(device)\n",
        "\n",
        "criterion = nn.CrossEntropyLoss()\n",
        "\n",
        "# Observe that all parameters are being optimized\n",
        "#optimizer_ft = optim.SGD(model_ft.parameters(), lr=0.001, momentum=0.9)\n",
        "optimizer_ft = torch.optim.Adam(model_ft.parameters())\n",
        "\n",
        "# Decay LR by a factor of 0.1 every 7 epochs\n",
        "exp_lr_scheduler = lr_scheduler.StepLR(optimizer_ft, step_size=7, gamma=0.1)"
      ],
      "execution_count": 20,
      "outputs": []
    },
    {
      "cell_type": "code",
      "metadata": {
        "colab": {
          "base_uri": "https://localhost:8080/"
        },
        "id": "a7rIUP2uCyNz",
        "outputId": "4db6b010-7578-4b0b-ddfa-9fe5cdb985ba"
      },
      "source": [
        "model_ft"
      ],
      "execution_count": 21,
      "outputs": [
        {
          "output_type": "execute_result",
          "data": {
            "text/plain": [
              "ResNet(\n",
              "  (conv1): Conv2d(3, 64, kernel_size=(7, 7), stride=(2, 2), padding=(3, 3), bias=False)\n",
              "  (bn1): BatchNorm2d(64, eps=1e-05, momentum=0.1, affine=True, track_running_stats=True)\n",
              "  (relu): ReLU(inplace=True)\n",
              "  (maxpool): MaxPool2d(kernel_size=3, stride=2, padding=1, dilation=1, ceil_mode=False)\n",
              "  (layer1): Sequential(\n",
              "    (0): BasicBlock(\n",
              "      (conv1): Conv2d(64, 64, kernel_size=(3, 3), stride=(1, 1), padding=(1, 1), bias=False)\n",
              "      (bn1): BatchNorm2d(64, eps=1e-05, momentum=0.1, affine=True, track_running_stats=True)\n",
              "      (relu): ReLU(inplace=True)\n",
              "      (conv2): Conv2d(64, 64, kernel_size=(3, 3), stride=(1, 1), padding=(1, 1), bias=False)\n",
              "      (bn2): BatchNorm2d(64, eps=1e-05, momentum=0.1, affine=True, track_running_stats=True)\n",
              "    )\n",
              "    (1): BasicBlock(\n",
              "      (conv1): Conv2d(64, 64, kernel_size=(3, 3), stride=(1, 1), padding=(1, 1), bias=False)\n",
              "      (bn1): BatchNorm2d(64, eps=1e-05, momentum=0.1, affine=True, track_running_stats=True)\n",
              "      (relu): ReLU(inplace=True)\n",
              "      (conv2): Conv2d(64, 64, kernel_size=(3, 3), stride=(1, 1), padding=(1, 1), bias=False)\n",
              "      (bn2): BatchNorm2d(64, eps=1e-05, momentum=0.1, affine=True, track_running_stats=True)\n",
              "    )\n",
              "  )\n",
              "  (layer2): Sequential(\n",
              "    (0): BasicBlock(\n",
              "      (conv1): Conv2d(64, 128, kernel_size=(3, 3), stride=(2, 2), padding=(1, 1), bias=False)\n",
              "      (bn1): BatchNorm2d(128, eps=1e-05, momentum=0.1, affine=True, track_running_stats=True)\n",
              "      (relu): ReLU(inplace=True)\n",
              "      (conv2): Conv2d(128, 128, kernel_size=(3, 3), stride=(1, 1), padding=(1, 1), bias=False)\n",
              "      (bn2): BatchNorm2d(128, eps=1e-05, momentum=0.1, affine=True, track_running_stats=True)\n",
              "      (downsample): Sequential(\n",
              "        (0): Conv2d(64, 128, kernel_size=(1, 1), stride=(2, 2), bias=False)\n",
              "        (1): BatchNorm2d(128, eps=1e-05, momentum=0.1, affine=True, track_running_stats=True)\n",
              "      )\n",
              "    )\n",
              "    (1): BasicBlock(\n",
              "      (conv1): Conv2d(128, 128, kernel_size=(3, 3), stride=(1, 1), padding=(1, 1), bias=False)\n",
              "      (bn1): BatchNorm2d(128, eps=1e-05, momentum=0.1, affine=True, track_running_stats=True)\n",
              "      (relu): ReLU(inplace=True)\n",
              "      (conv2): Conv2d(128, 128, kernel_size=(3, 3), stride=(1, 1), padding=(1, 1), bias=False)\n",
              "      (bn2): BatchNorm2d(128, eps=1e-05, momentum=0.1, affine=True, track_running_stats=True)\n",
              "    )\n",
              "  )\n",
              "  (layer3): Sequential(\n",
              "    (0): BasicBlock(\n",
              "      (conv1): Conv2d(128, 256, kernel_size=(3, 3), stride=(2, 2), padding=(1, 1), bias=False)\n",
              "      (bn1): BatchNorm2d(256, eps=1e-05, momentum=0.1, affine=True, track_running_stats=True)\n",
              "      (relu): ReLU(inplace=True)\n",
              "      (conv2): Conv2d(256, 256, kernel_size=(3, 3), stride=(1, 1), padding=(1, 1), bias=False)\n",
              "      (bn2): BatchNorm2d(256, eps=1e-05, momentum=0.1, affine=True, track_running_stats=True)\n",
              "      (downsample): Sequential(\n",
              "        (0): Conv2d(128, 256, kernel_size=(1, 1), stride=(2, 2), bias=False)\n",
              "        (1): BatchNorm2d(256, eps=1e-05, momentum=0.1, affine=True, track_running_stats=True)\n",
              "      )\n",
              "    )\n",
              "    (1): BasicBlock(\n",
              "      (conv1): Conv2d(256, 256, kernel_size=(3, 3), stride=(1, 1), padding=(1, 1), bias=False)\n",
              "      (bn1): BatchNorm2d(256, eps=1e-05, momentum=0.1, affine=True, track_running_stats=True)\n",
              "      (relu): ReLU(inplace=True)\n",
              "      (conv2): Conv2d(256, 256, kernel_size=(3, 3), stride=(1, 1), padding=(1, 1), bias=False)\n",
              "      (bn2): BatchNorm2d(256, eps=1e-05, momentum=0.1, affine=True, track_running_stats=True)\n",
              "    )\n",
              "  )\n",
              "  (layer4): Sequential(\n",
              "    (0): BasicBlock(\n",
              "      (conv1): Conv2d(256, 512, kernel_size=(3, 3), stride=(2, 2), padding=(1, 1), bias=False)\n",
              "      (bn1): BatchNorm2d(512, eps=1e-05, momentum=0.1, affine=True, track_running_stats=True)\n",
              "      (relu): ReLU(inplace=True)\n",
              "      (conv2): Conv2d(512, 512, kernel_size=(3, 3), stride=(1, 1), padding=(1, 1), bias=False)\n",
              "      (bn2): BatchNorm2d(512, eps=1e-05, momentum=0.1, affine=True, track_running_stats=True)\n",
              "      (downsample): Sequential(\n",
              "        (0): Conv2d(256, 512, kernel_size=(1, 1), stride=(2, 2), bias=False)\n",
              "        (1): BatchNorm2d(512, eps=1e-05, momentum=0.1, affine=True, track_running_stats=True)\n",
              "      )\n",
              "    )\n",
              "    (1): BasicBlock(\n",
              "      (conv1): Conv2d(512, 512, kernel_size=(3, 3), stride=(1, 1), padding=(1, 1), bias=False)\n",
              "      (bn1): BatchNorm2d(512, eps=1e-05, momentum=0.1, affine=True, track_running_stats=True)\n",
              "      (relu): ReLU(inplace=True)\n",
              "      (conv2): Conv2d(512, 512, kernel_size=(3, 3), stride=(1, 1), padding=(1, 1), bias=False)\n",
              "      (bn2): BatchNorm2d(512, eps=1e-05, momentum=0.1, affine=True, track_running_stats=True)\n",
              "    )\n",
              "  )\n",
              "  (avgpool): AdaptiveAvgPool2d(output_size=(1, 1))\n",
              "  (fc): Linear(in_features=512, out_features=2, bias=True)\n",
              ")"
            ]
          },
          "metadata": {
            "tags": []
          },
          "execution_count": 21
        }
      ]
    },
    {
      "cell_type": "code",
      "metadata": {
        "colab": {
          "base_uri": "https://localhost:8080/"
        },
        "id": "m8EJ0I2A7gR9",
        "outputId": "c5e90601-e755-49de-e280-e1234d1125a9"
      },
      "source": [
        "model_ft, best_acc = train_model(model_ft, criterion, optimizer_ft, exp_lr_scheduler,\n",
        "                       num_epochs=10)"
      ],
      "execution_count": 22,
      "outputs": [
        {
          "output_type": "stream",
          "text": [
            "Epoch 0/9\n",
            "----------\n"
          ],
          "name": "stdout"
        },
        {
          "output_type": "stream",
          "text": [
            "/usr/local/lib/python3.6/dist-packages/torch/optim/lr_scheduler.py:136: UserWarning: Detected call of `lr_scheduler.step()` before `optimizer.step()`. In PyTorch 1.1.0 and later, you should call them in the opposite order: `optimizer.step()` before `lr_scheduler.step()`.  Failure to do this will result in PyTorch skipping the first value of the learning rate schedule. See more details at https://pytorch.org/docs/stable/optim.html#how-to-adjust-learning-rate\n",
            "  \"https://pytorch.org/docs/stable/optim.html#how-to-adjust-learning-rate\", UserWarning)\n"
          ],
          "name": "stderr"
        },
        {
          "output_type": "stream",
          "text": [
            "train Loss: 0.8976 Acc: 0.5533\n",
            "val Loss: 0.9842 Acc: 0.5163\n",
            "\n",
            "Epoch 1/9\n",
            "----------\n",
            "train Loss: 0.7081 Acc: 0.5615\n",
            "val Loss: 0.9851 Acc: 0.5490\n",
            "\n",
            "Epoch 2/9\n",
            "----------\n",
            "train Loss: 0.6751 Acc: 0.5902\n",
            "val Loss: 0.6563 Acc: 0.5752\n",
            "\n",
            "Epoch 3/9\n",
            "----------\n",
            "train Loss: 0.6941 Acc: 0.5861\n",
            "val Loss: 1.0699 Acc: 0.4575\n",
            "\n",
            "Epoch 4/9\n",
            "----------\n",
            "train Loss: 0.7032 Acc: 0.5738\n",
            "val Loss: 0.5426 Acc: 0.6928\n",
            "\n",
            "Epoch 5/9\n",
            "----------\n",
            "train Loss: 0.6991 Acc: 0.5779\n",
            "val Loss: 0.6488 Acc: 0.6275\n",
            "\n",
            "Epoch 6/9\n",
            "----------\n",
            "train Loss: 0.6331 Acc: 0.6434\n",
            "val Loss: 0.5827 Acc: 0.6405\n",
            "\n",
            "Epoch 7/9\n",
            "----------\n",
            "train Loss: 0.6319 Acc: 0.6639\n",
            "val Loss: 0.5815 Acc: 0.6405\n",
            "\n",
            "Epoch 8/9\n",
            "----------\n",
            "train Loss: 0.5892 Acc: 0.6803\n",
            "val Loss: 0.5621 Acc: 0.6928\n",
            "\n",
            "Epoch 9/9\n",
            "----------\n",
            "train Loss: 0.6036 Acc: 0.6844\n",
            "val Loss: 0.5918 Acc: 0.6797\n",
            "\n",
            "Training complete in 1m 2s\n",
            "Best val Acc: 0.692810\n"
          ],
          "name": "stdout"
        }
      ]
    },
    {
      "cell_type": "code",
      "metadata": {
        "colab": {
          "base_uri": "https://localhost:8080/"
        },
        "id": "2mdTd1Nv8Bd9",
        "outputId": "719955e4-0697-44e8-e7ef-0c4cd1b9058d"
      },
      "source": [
        "device, best_acc.item()"
      ],
      "execution_count": 23,
      "outputs": [
        {
          "output_type": "execute_result",
          "data": {
            "text/plain": [
              "(device(type='cuda', index=0), 0.6928104575163399)"
            ]
          },
          "metadata": {
            "tags": []
          },
          "execution_count": 23
        }
      ]
    },
    {
      "cell_type": "code",
      "metadata": {
        "colab": {
          "base_uri": "https://localhost:8080/",
          "height": 34
        },
        "id": "nXFm4EOd9gmo",
        "outputId": "1d007e45-e8f4-4437-d80e-35b4e356b346"
      },
      "source": [
        "st=str(model_ft)\n",
        "st=st.split('(')[0]\n",
        "st"
      ],
      "execution_count": 24,
      "outputs": [
        {
          "output_type": "execute_result",
          "data": {
            "application/vnd.google.colaboratory.intrinsic+json": {
              "type": "string"
            },
            "text/plain": [
              "'ResNet'"
            ]
          },
          "metadata": {
            "tags": []
          },
          "execution_count": 24
        }
      ]
    },
    {
      "cell_type": "code",
      "metadata": {
        "id": "Sa5__amj9vxO"
      },
      "source": [
        "df=pd.DataFrame(data=None, columns=['dataset','model', 'pretrained', 'augumentations', 'num_epochs','best_val_acc'])"
      ],
      "execution_count": 25,
      "outputs": []
    },
    {
      "cell_type": "code",
      "metadata": {
        "id": "lKuwABvD-8Jf"
      },
      "source": [
        "df.loc[0]=['hymenoptera_data', str(model_ft).split('(')[0], False, 'no_augs', 10, best_acc.item()]"
      ],
      "execution_count": 26,
      "outputs": []
    },
    {
      "cell_type": "code",
      "metadata": {
        "colab": {
          "base_uri": "https://localhost:8080/",
          "height": 78
        },
        "id": "hHtC3NKQ-8yd",
        "outputId": "ebdb46ee-3362-4dc9-ba90-8c3b71dc3f9c"
      },
      "source": [
        "df"
      ],
      "execution_count": 27,
      "outputs": [
        {
          "output_type": "execute_result",
          "data": {
            "text/html": [
              "<div>\n",
              "<style scoped>\n",
              "    .dataframe tbody tr th:only-of-type {\n",
              "        vertical-align: middle;\n",
              "    }\n",
              "\n",
              "    .dataframe tbody tr th {\n",
              "        vertical-align: top;\n",
              "    }\n",
              "\n",
              "    .dataframe thead th {\n",
              "        text-align: right;\n",
              "    }\n",
              "</style>\n",
              "<table border=\"1\" class=\"dataframe\">\n",
              "  <thead>\n",
              "    <tr style=\"text-align: right;\">\n",
              "      <th></th>\n",
              "      <th>dataset</th>\n",
              "      <th>model</th>\n",
              "      <th>pretrained</th>\n",
              "      <th>augumentations</th>\n",
              "      <th>num_epochs</th>\n",
              "      <th>best_val_acc</th>\n",
              "    </tr>\n",
              "  </thead>\n",
              "  <tbody>\n",
              "    <tr>\n",
              "      <th>0</th>\n",
              "      <td>hymenoptera_data</td>\n",
              "      <td>ResNet</td>\n",
              "      <td>False</td>\n",
              "      <td>no_augs</td>\n",
              "      <td>10</td>\n",
              "      <td>0.69281</td>\n",
              "    </tr>\n",
              "  </tbody>\n",
              "</table>\n",
              "</div>"
            ],
            "text/plain": [
              "            dataset   model pretrained augumentations num_epochs  best_val_acc\n",
              "0  hymenoptera_data  ResNet      False        no_augs         10       0.69281"
            ]
          },
          "metadata": {
            "tags": []
          },
          "execution_count": 27
        }
      ]
    },
    {
      "cell_type": "code",
      "metadata": {
        "id": "GzzLpfZpTRqk"
      },
      "source": [
        "del model_ft"
      ],
      "execution_count": 28,
      "outputs": []
    },
    {
      "cell_type": "code",
      "metadata": {
        "id": "-VqVLhC2MJM4"
      },
      "source": [
        "model_ft = models.vgg16(pretrained=False)\n",
        "#num_ftrs = model_ft.fc.in_features\n",
        "#model_ft.fc = nn.Linear(num_ftrs, 2)\n",
        "\n",
        "model_ft = model_ft.to(device)\n",
        "\n",
        "criterion = nn.CrossEntropyLoss()\n",
        "optimizer_ft = torch.optim.Adam(model_ft.parameters())\n",
        "exp_lr_scheduler = lr_scheduler.StepLR(optimizer_ft, step_size=7, gamma=0.1)"
      ],
      "execution_count": 29,
      "outputs": []
    },
    {
      "cell_type": "code",
      "metadata": {
        "id": "gk_vUozDTRql"
      },
      "source": [
        "#torch.cuda.empty_cache()\n",
        "#GPUtil.showUtilization()"
      ],
      "execution_count": 31,
      "outputs": []
    },
    {
      "cell_type": "code",
      "metadata": {
        "colab": {
          "base_uri": "https://localhost:8080/"
        },
        "id": "8aUBy9GjManp",
        "outputId": "76919d5d-c134-4bdc-b215-d614ca802923"
      },
      "source": [
        "model_ft, best_acc = train_model(model_ft, criterion, optimizer_ft, exp_lr_scheduler,\n",
        "                       num_epochs=10)"
      ],
      "execution_count": 32,
      "outputs": [
        {
          "output_type": "stream",
          "text": [
            "Epoch 0/9\n",
            "----------\n"
          ],
          "name": "stdout"
        },
        {
          "output_type": "stream",
          "text": [
            "/usr/local/lib/python3.6/dist-packages/torch/optim/lr_scheduler.py:136: UserWarning: Detected call of `lr_scheduler.step()` before `optimizer.step()`. In PyTorch 1.1.0 and later, you should call them in the opposite order: `optimizer.step()` before `lr_scheduler.step()`.  Failure to do this will result in PyTorch skipping the first value of the learning rate schedule. See more details at https://pytorch.org/docs/stable/optim.html#how-to-adjust-learning-rate\n",
            "  \"https://pytorch.org/docs/stable/optim.html#how-to-adjust-learning-rate\", UserWarning)\n"
          ],
          "name": "stderr"
        },
        {
          "output_type": "stream",
          "text": [
            "train Loss: 4.6949 Acc: 0.4795\n",
            "val Loss: 0.7035 Acc: 0.5425\n",
            "\n",
            "Epoch 1/9\n",
            "----------\n",
            "train Loss: 0.7255 Acc: 0.5082\n",
            "val Loss: 0.6987 Acc: 0.5425\n",
            "\n",
            "Epoch 2/9\n",
            "----------\n",
            "train Loss: 0.7294 Acc: 0.5000\n",
            "val Loss: 0.6969 Acc: 0.4575\n",
            "\n",
            "Epoch 3/9\n",
            "----------\n",
            "train Loss: 0.7190 Acc: 0.5656\n",
            "val Loss: 0.7317 Acc: 0.4575\n",
            "\n",
            "Epoch 4/9\n",
            "----------\n",
            "train Loss: 0.7215 Acc: 0.5041\n",
            "val Loss: 0.6994 Acc: 0.4575\n",
            "\n",
            "Epoch 5/9\n",
            "----------\n",
            "train Loss: 0.7398 Acc: 0.4139\n",
            "val Loss: 0.6957 Acc: 0.5425\n",
            "\n",
            "Epoch 6/9\n",
            "----------\n",
            "train Loss: 0.7113 Acc: 0.4754\n",
            "val Loss: 0.6922 Acc: 0.5425\n",
            "\n",
            "Epoch 7/9\n",
            "----------\n",
            "train Loss: 0.6990 Acc: 0.5369\n",
            "val Loss: 0.6913 Acc: 0.5425\n",
            "\n",
            "Epoch 8/9\n",
            "----------\n",
            "train Loss: 0.7035 Acc: 0.5000\n",
            "val Loss: 0.6940 Acc: 0.4575\n",
            "\n",
            "Epoch 9/9\n",
            "----------\n",
            "train Loss: 0.7026 Acc: 0.4631\n",
            "val Loss: 0.6941 Acc: 0.4575\n",
            "\n",
            "Training complete in 1m 42s\n",
            "Best val Acc: 0.542484\n"
          ],
          "name": "stdout"
        }
      ]
    },
    {
      "cell_type": "code",
      "metadata": {
        "colab": {
          "base_uri": "https://localhost:8080/",
          "height": 34
        },
        "id": "24u1Q6QnM4Ic",
        "outputId": "8022a0a3-25d8-41a6-de2b-63d8828c2da6"
      },
      "source": [
        "str(model_ft).split('(')[0]"
      ],
      "execution_count": 33,
      "outputs": [
        {
          "output_type": "execute_result",
          "data": {
            "application/vnd.google.colaboratory.intrinsic+json": {
              "type": "string"
            },
            "text/plain": [
              "'VGG'"
            ]
          },
          "metadata": {
            "tags": []
          },
          "execution_count": 33
        }
      ]
    },
    {
      "cell_type": "code",
      "metadata": {
        "id": "YNG3J7weOUQ0"
      },
      "source": [
        "df.loc[1]=['hymenoptera_data', str(model_ft).split('(')[0], False, 'no_augs', 10, best_acc.item()]"
      ],
      "execution_count": 34,
      "outputs": []
    },
    {
      "cell_type": "code",
      "metadata": {
        "colab": {
          "base_uri": "https://localhost:8080/",
          "height": 108
        },
        "id": "fdGY583NQTlR",
        "outputId": "91dade5d-0fba-41e2-8182-28889ec55b12"
      },
      "source": [
        "df"
      ],
      "execution_count": 35,
      "outputs": [
        {
          "output_type": "execute_result",
          "data": {
            "text/html": [
              "<div>\n",
              "<style scoped>\n",
              "    .dataframe tbody tr th:only-of-type {\n",
              "        vertical-align: middle;\n",
              "    }\n",
              "\n",
              "    .dataframe tbody tr th {\n",
              "        vertical-align: top;\n",
              "    }\n",
              "\n",
              "    .dataframe thead th {\n",
              "        text-align: right;\n",
              "    }\n",
              "</style>\n",
              "<table border=\"1\" class=\"dataframe\">\n",
              "  <thead>\n",
              "    <tr style=\"text-align: right;\">\n",
              "      <th></th>\n",
              "      <th>dataset</th>\n",
              "      <th>model</th>\n",
              "      <th>pretrained</th>\n",
              "      <th>augumentations</th>\n",
              "      <th>num_epochs</th>\n",
              "      <th>best_val_acc</th>\n",
              "    </tr>\n",
              "  </thead>\n",
              "  <tbody>\n",
              "    <tr>\n",
              "      <th>0</th>\n",
              "      <td>hymenoptera_data</td>\n",
              "      <td>ResNet</td>\n",
              "      <td>False</td>\n",
              "      <td>no_augs</td>\n",
              "      <td>10</td>\n",
              "      <td>0.692810</td>\n",
              "    </tr>\n",
              "    <tr>\n",
              "      <th>1</th>\n",
              "      <td>hymenoptera_data</td>\n",
              "      <td>VGG</td>\n",
              "      <td>False</td>\n",
              "      <td>no_augs</td>\n",
              "      <td>10</td>\n",
              "      <td>0.542484</td>\n",
              "    </tr>\n",
              "  </tbody>\n",
              "</table>\n",
              "</div>"
            ],
            "text/plain": [
              "            dataset   model pretrained augumentations num_epochs  best_val_acc\n",
              "0  hymenoptera_data  ResNet      False        no_augs         10      0.692810\n",
              "1  hymenoptera_data     VGG      False        no_augs         10      0.542484"
            ]
          },
          "metadata": {
            "tags": []
          },
          "execution_count": 35
        }
      ]
    },
    {
      "cell_type": "markdown",
      "metadata": {
        "id": "0DASEBkDUmYt"
      },
      "source": [
        "Augumentations\n"
      ]
    },
    {
      "cell_type": "code",
      "metadata": {
        "id": "y93p9xLwR5bA"
      },
      "source": [
        "data_transforms = {\n",
        "    'train': transforms.Compose([\n",
        "        #transforms.Resize((224,224)),\n",
        "        transforms.RandomResizedCrop(224),\n",
        "        transforms.RandomHorizontalFlip(),\n",
        "        transforms.ToTensor(),\n",
        "        transforms.Normalize([0.485, 0.456, 0.406], [0.229, 0.224, 0.225])\n",
        "    ]),\n",
        "    'val': transforms.Compose([\n",
        "        transforms.Resize((256,256)),\n",
        "        transforms.CenterCrop(224),\n",
        "        transforms.ToTensor(),\n",
        "        transforms.Normalize([0.485, 0.456, 0.406], [0.229, 0.224, 0.225])\n",
        "    ]),\n",
        "}\n",
        "\n",
        "#data_dir = '../input/hymenoptera-data/hymenoptera_data/hymenoptera_data'\n",
        "data_dir='/content/gdrive/My Drive/data_science/hymenoptera_data'\n",
        "image_datasets = {x: datasets.ImageFolder(os.path.join(data_dir, x),\n",
        "                                          data_transforms[x])\n",
        "                  for x in ['train', 'val']}\n",
        "dataloaders = {x: torch.utils.data.DataLoader(image_datasets[x], batch_size=4,\n",
        "                                             shuffle=True, num_workers=4)\n",
        "              for x in ['train', 'val']}\n",
        "dataset_sizes = {x: len(image_datasets[x]) for x in ['train', 'val']}\n",
        "class_names = image_datasets['train'].classes"
      ],
      "execution_count": 36,
      "outputs": []
    },
    {
      "cell_type": "code",
      "metadata": {
        "colab": {
          "base_uri": "https://localhost:8080/",
          "height": 54
        },
        "id": "lFjAuKEdU_I5",
        "outputId": "3adab9c3-4928-4547-ff81-d7bcc91b760d"
      },
      "source": [
        "'''\n",
        "data_transforms = {\n",
        "    'train': A.Compose([\n",
        "        A.HueSaturationValue(\\\n",
        "                         hue_shift_limit=0.2, \\\n",
        "                         sat_shift_limit=0.2, \\\n",
        "                         val_shift_limit=0.3, \\\n",
        "                         p=0.1),\n",
        "        A.OneOf([\n",
        "            #MotionBlur(p=0.8),\n",
        "            A.MedianBlur(blur_limit=5, p=0.1),\n",
        "            A.Blur(blur_limit=8, p=0.1),\n",
        "        ], p=0.2),\n",
        "        A.ShiftScaleRotate(shift_limit=0.0625, scale_limit=0.1, rotate_limit=25, p=0.3),\n",
        "        A.HorizontalFlip(p=0.5),\n",
        "        A.VerticalFlip(p=0.2),\n",
        "        A.OpticalDistortion(p=0.3),\n",
        "        A.RandomBrightnessContrast(p=0.3),\n",
        "        A.RandomCrop(height=200, width=200, p=0.25),\n",
        "        A.Normalize([0.485, 0.456, 0.406], [0.229, 0.224, 0.225])\n",
        "        ]),\n",
        "      'val': A.Compose([\n",
        "        A.Resize(224,224),\n",
        "        A.Normalize([0.485, 0.456, 0.406], [0.229, 0.224, 0.225]),\n",
        "        A.ToTensor(num_classes=1, sigmoid=True, normalize=None)\n",
        "        #A.pytorch.transforms.ToTensorV2()\n",
        "    ]),\n",
        "}\n",
        "'''"
      ],
      "execution_count": null,
      "outputs": [
        {
          "output_type": "execute_result",
          "data": {
            "text/plain": [
              "\"\\ndata_transforms = {\\n    'train': A.Compose([\\n        A.HueSaturationValue(                         hue_shift_limit=0.2,                          sat_shift_limit=0.2,                          val_shift_limit=0.3,                          p=0.1),\\n        A.OneOf([\\n            #MotionBlur(p=0.8),\\n            A.MedianBlur(blur_limit=5, p=0.1),\\n            A.Blur(blur_limit=8, p=0.1),\\n        ], p=0.2),\\n        A.ShiftScaleRotate(shift_limit=0.0625, scale_limit=0.1, rotate_limit=25, p=0.3),\\n        A.HorizontalFlip(p=0.5),\\n        A.VerticalFlip(p=0.2),\\n        A.OpticalDistortion(p=0.3),\\n        A.RandomBrightnessContrast(p=0.3),\\n        A.RandomCrop(height=200, width=200, p=0.25),\\n        A.Normalize([0.485, 0.456, 0.406], [0.229, 0.224, 0.225])\\n        ]),\\n      'val': A.Compose([\\n        A.Resize(224,224),\\n        A.Normalize([0.485, 0.456, 0.406], [0.229, 0.224, 0.225]),\\n        A.ToTensor(num_classes=1, sigmoid=True, normalize=None)\\n        #A.pytorch.transforms.ToTensorV2()\\n    ]),\\n}\\n\""
            ]
          },
          "metadata": {
            "tags": []
          },
          "execution_count": 212
        }
      ]
    },
    {
      "cell_type": "code",
      "metadata": {
        "colab": {
          "base_uri": "https://localhost:8080/",
          "height": 1000,
          "referenced_widgets": [
            "17b639370fff4be19b1d75f96b4d16af",
            "fcff4b4d1ae446f7a7b034b1d4b4e3e2",
            "b5d048c4877f49909c0e1e24bbfa8a01",
            "30d662540ac24f3ca02c1c91673016ff",
            "78e92794c2c64d0abb80e761a38b782a",
            "902aa3222ca14196ad7b1495a5053805",
            "b78370bd715b40e8bd9fc384dd6d1b9d",
            "32eeaac0cc1d4b8aa7d491baf338975e"
          ]
        },
        "id": "v13fz3b3Vx98",
        "outputId": "3502a85e-21d2-4e58-a73b-892091751253"
      },
      "source": [
        "model_ft = models.resnet18(pretrained=True)\n",
        "num_ftrs = model_ft.fc.in_features\n",
        "#for L in model_ft:\n",
        "#  L.requires_grad = False\n",
        "model_ft.requires_grad=False\n",
        "\n",
        "model_ft.fc = nn.Linear(num_ftrs, 2)\n",
        "\n",
        "model_ft = model_ft.to(device)\n",
        "\n",
        "criterion = nn.CrossEntropyLoss()\n",
        "\n",
        "# Observe that all parameters are being optimized\n",
        "#optimizer_ft = optim.SGD(model_ft.parameters(), lr=0.001, momentum=0.9)\n",
        "optimizer_ft = torch.optim.Adam(model_ft.parameters())\n",
        "\n",
        "# Decay LR by a factor of 0.1 every 7 epochs\n",
        "exp_lr_scheduler = lr_scheduler.StepLR(optimizer_ft, step_size=7, gamma=0.1)\n",
        "model_ft, best_acc = train_model(model_ft, criterion, optimizer_ft, exp_lr_scheduler,\n",
        "                       num_epochs=10)"
      ],
      "execution_count": 37,
      "outputs": [
        {
          "output_type": "stream",
          "text": [
            "Downloading: \"https://download.pytorch.org/models/resnet18-5c106cde.pth\" to /root/.cache/torch/hub/checkpoints/resnet18-5c106cde.pth\n"
          ],
          "name": "stderr"
        },
        {
          "output_type": "display_data",
          "data": {
            "application/vnd.jupyter.widget-view+json": {
              "model_id": "17b639370fff4be19b1d75f96b4d16af",
              "version_minor": 0,
              "version_major": 2
            },
            "text/plain": [
              "HBox(children=(FloatProgress(value=0.0, max=46827520.0), HTML(value='')))"
            ]
          },
          "metadata": {
            "tags": []
          }
        },
        {
          "output_type": "stream",
          "text": [
            "\n",
            "Epoch 0/9\n",
            "----------\n"
          ],
          "name": "stdout"
        },
        {
          "output_type": "stream",
          "text": [
            "/usr/local/lib/python3.6/dist-packages/torch/optim/lr_scheduler.py:136: UserWarning: Detected call of `lr_scheduler.step()` before `optimizer.step()`. In PyTorch 1.1.0 and later, you should call them in the opposite order: `optimizer.step()` before `lr_scheduler.step()`.  Failure to do this will result in PyTorch skipping the first value of the learning rate schedule. See more details at https://pytorch.org/docs/stable/optim.html#how-to-adjust-learning-rate\n",
            "  \"https://pytorch.org/docs/stable/optim.html#how-to-adjust-learning-rate\", UserWarning)\n"
          ],
          "name": "stderr"
        },
        {
          "output_type": "stream",
          "text": [
            "train Loss: 1.0184 Acc: 0.5205\n",
            "val Loss: 0.8232 Acc: 0.5817\n",
            "\n",
            "Epoch 1/9\n",
            "----------\n",
            "train Loss: 0.6957 Acc: 0.5738\n",
            "val Loss: 0.6536 Acc: 0.6732\n",
            "\n",
            "Epoch 2/9\n",
            "----------\n",
            "train Loss: 0.7445 Acc: 0.5492\n",
            "val Loss: 0.8920 Acc: 0.5163\n",
            "\n",
            "Epoch 3/9\n",
            "----------\n",
            "train Loss: 0.6790 Acc: 0.5943\n",
            "val Loss: 0.6936 Acc: 0.5686\n",
            "\n",
            "Epoch 4/9\n",
            "----------\n",
            "train Loss: 0.6837 Acc: 0.5902\n",
            "val Loss: 0.7262 Acc: 0.6078\n",
            "\n",
            "Epoch 5/9\n",
            "----------\n",
            "train Loss: 0.6875 Acc: 0.6311\n",
            "val Loss: 0.6851 Acc: 0.6471\n",
            "\n",
            "Epoch 6/9\n",
            "----------\n",
            "train Loss: 0.7029 Acc: 0.5615\n",
            "val Loss: 0.6400 Acc: 0.6667\n",
            "\n",
            "Epoch 7/9\n",
            "----------\n",
            "train Loss: 0.6591 Acc: 0.5861\n",
            "val Loss: 0.6155 Acc: 0.6993\n",
            "\n",
            "Epoch 8/9\n",
            "----------\n",
            "train Loss: 0.6416 Acc: 0.6311\n",
            "val Loss: 0.5792 Acc: 0.6667\n",
            "\n",
            "Epoch 9/9\n",
            "----------\n",
            "train Loss: 0.5933 Acc: 0.6516\n",
            "val Loss: 0.5732 Acc: 0.7190\n",
            "\n",
            "Training complete in 1m 0s\n",
            "Best val Acc: 0.718954\n"
          ],
          "name": "stdout"
        }
      ]
    },
    {
      "cell_type": "code",
      "metadata": {
        "id": "54E0nR6VYggo"
      },
      "source": [
        "df.loc[2]=['hymenoptera_data', str(model_ft).split('(')[0], True, 'simple_augs', 10, best_acc.item()]"
      ],
      "execution_count": 38,
      "outputs": []
    },
    {
      "cell_type": "code",
      "metadata": {
        "colab": {
          "base_uri": "https://localhost:8080/",
          "height": 138
        },
        "id": "rqZeBkQYaK_A",
        "outputId": "e8366d51-1d0d-4e78-e991-acdb078c5a18"
      },
      "source": [
        "df"
      ],
      "execution_count": 39,
      "outputs": [
        {
          "output_type": "execute_result",
          "data": {
            "text/html": [
              "<div>\n",
              "<style scoped>\n",
              "    .dataframe tbody tr th:only-of-type {\n",
              "        vertical-align: middle;\n",
              "    }\n",
              "\n",
              "    .dataframe tbody tr th {\n",
              "        vertical-align: top;\n",
              "    }\n",
              "\n",
              "    .dataframe thead th {\n",
              "        text-align: right;\n",
              "    }\n",
              "</style>\n",
              "<table border=\"1\" class=\"dataframe\">\n",
              "  <thead>\n",
              "    <tr style=\"text-align: right;\">\n",
              "      <th></th>\n",
              "      <th>dataset</th>\n",
              "      <th>model</th>\n",
              "      <th>pretrained</th>\n",
              "      <th>augumentations</th>\n",
              "      <th>num_epochs</th>\n",
              "      <th>best_val_acc</th>\n",
              "    </tr>\n",
              "  </thead>\n",
              "  <tbody>\n",
              "    <tr>\n",
              "      <th>0</th>\n",
              "      <td>hymenoptera_data</td>\n",
              "      <td>ResNet</td>\n",
              "      <td>False</td>\n",
              "      <td>no_augs</td>\n",
              "      <td>10</td>\n",
              "      <td>0.692810</td>\n",
              "    </tr>\n",
              "    <tr>\n",
              "      <th>1</th>\n",
              "      <td>hymenoptera_data</td>\n",
              "      <td>VGG</td>\n",
              "      <td>False</td>\n",
              "      <td>no_augs</td>\n",
              "      <td>10</td>\n",
              "      <td>0.542484</td>\n",
              "    </tr>\n",
              "    <tr>\n",
              "      <th>2</th>\n",
              "      <td>hymenoptera_data</td>\n",
              "      <td>ResNet</td>\n",
              "      <td>True</td>\n",
              "      <td>simple_augs</td>\n",
              "      <td>10</td>\n",
              "      <td>0.718954</td>\n",
              "    </tr>\n",
              "  </tbody>\n",
              "</table>\n",
              "</div>"
            ],
            "text/plain": [
              "            dataset   model pretrained augumentations num_epochs  best_val_acc\n",
              "0  hymenoptera_data  ResNet      False        no_augs         10      0.692810\n",
              "1  hymenoptera_data     VGG      False        no_augs         10      0.542484\n",
              "2  hymenoptera_data  ResNet       True    simple_augs         10      0.718954"
            ]
          },
          "metadata": {
            "tags": []
          },
          "execution_count": 39
        }
      ]
    },
    {
      "cell_type": "code",
      "metadata": {
        "id": "z6v3AqQcaL9L",
        "colab": {
          "base_uri": "https://localhost:8080/",
          "height": 104,
          "referenced_widgets": [
            "336268b03bdf42a998b837a09d85fa2f",
            "baa3be07b2604fcbb7beabcfedc3d088",
            "2987e53dd7c54f93b31a0fd9cd7cee1e",
            "bbd88522e01a4182bf5258a3dcb48f29",
            "1b36fd4087f244e2aca2e5b9ce30c505",
            "90996a98da5b4467a6ad83ca7ef6452c",
            "6c1f72a57f224993a10d609403d28e6d",
            "32fb7c951d9241b59824c786fce675c6"
          ]
        },
        "outputId": "1f1d11df-1677-46f1-fe81-65eb69153f9b"
      },
      "source": [
        "#ПОКА НЕ НАШЕЛ КАК у VGG16 ЗАМОРОЗИТЬ слои извлекающие фичи и заменить классификационную голову\n",
        "model_ft = models.vgg16(pretrained=True)\n",
        "#num_ftrs = model_ft.fc.in_features\n",
        "#model_ft.fc = nn.Linear(num_ftrs, 2)\n",
        "\n",
        "model_ft = model_ft.to(device)\n",
        "\n",
        "criterion = nn.CrossEntropyLoss()\n",
        "optimizer_ft = torch.optim.Adam(model_ft.parameters())\n",
        "exp_lr_scheduler = lr_scheduler.StepLR(optimizer_ft, step_size=7, gamma=0.1)"
      ],
      "execution_count": 40,
      "outputs": [
        {
          "output_type": "stream",
          "text": [
            "Downloading: \"https://download.pytorch.org/models/vgg16-397923af.pth\" to /root/.cache/torch/hub/checkpoints/vgg16-397923af.pth\n"
          ],
          "name": "stderr"
        },
        {
          "output_type": "display_data",
          "data": {
            "application/vnd.jupyter.widget-view+json": {
              "model_id": "336268b03bdf42a998b837a09d85fa2f",
              "version_minor": 0,
              "version_major": 2
            },
            "text/plain": [
              "HBox(children=(FloatProgress(value=0.0, max=553433881.0), HTML(value='')))"
            ]
          },
          "metadata": {
            "tags": []
          }
        },
        {
          "output_type": "stream",
          "text": [
            "\n"
          ],
          "name": "stdout"
        }
      ]
    },
    {
      "cell_type": "code",
      "metadata": {
        "colab": {
          "base_uri": "https://localhost:8080/"
        },
        "id": "mvlsDFXZagq1",
        "outputId": "b47b9e11-974f-4aa0-a393-eb8e148e21cb"
      },
      "source": [
        "#ЗАПУСТИЛ 15 ЭПОХ, чтобы увидеть точность больше 0.5. Обучение не всегда идет в этой конфигурации\n",
        "model_ft, best_acc = train_model(model_ft, criterion, optimizer_ft, exp_lr_scheduler,\n",
        "                       num_epochs=15)"
      ],
      "execution_count": 41,
      "outputs": [
        {
          "output_type": "stream",
          "text": [
            "Epoch 0/14\n",
            "----------\n"
          ],
          "name": "stdout"
        },
        {
          "output_type": "stream",
          "text": [
            "/usr/local/lib/python3.6/dist-packages/torch/optim/lr_scheduler.py:136: UserWarning: Detected call of `lr_scheduler.step()` before `optimizer.step()`. In PyTorch 1.1.0 and later, you should call them in the opposite order: `optimizer.step()` before `lr_scheduler.step()`.  Failure to do this will result in PyTorch skipping the first value of the learning rate schedule. See more details at https://pytorch.org/docs/stable/optim.html#how-to-adjust-learning-rate\n",
            "  \"https://pytorch.org/docs/stable/optim.html#how-to-adjust-learning-rate\", UserWarning)\n"
          ],
          "name": "stderr"
        },
        {
          "output_type": "stream",
          "text": [
            "train Loss: 2.8993 Acc: 0.4262\n",
            "val Loss: 1.5884 Acc: 0.4641\n",
            "\n",
            "Epoch 1/14\n",
            "----------\n",
            "train Loss: 0.9941 Acc: 0.5000\n",
            "val Loss: 0.7161 Acc: 0.4575\n",
            "\n",
            "Epoch 2/14\n",
            "----------\n",
            "train Loss: 0.7508 Acc: 0.4795\n",
            "val Loss: 0.7048 Acc: 0.5425\n",
            "\n",
            "Epoch 3/14\n",
            "----------\n",
            "train Loss: 0.7543 Acc: 0.5123\n",
            "val Loss: 0.7854 Acc: 0.4575\n",
            "\n",
            "Epoch 4/14\n",
            "----------\n",
            "train Loss: 0.7111 Acc: 0.5328\n",
            "val Loss: 0.6896 Acc: 0.5556\n",
            "\n",
            "Epoch 5/14\n",
            "----------\n",
            "train Loss: 0.7310 Acc: 0.4713\n",
            "val Loss: 0.6869 Acc: 0.5556\n",
            "\n",
            "Epoch 6/14\n",
            "----------\n",
            "train Loss: 0.6370 Acc: 0.6475\n",
            "val Loss: 0.6347 Acc: 0.6078\n",
            "\n",
            "Epoch 7/14\n",
            "----------\n",
            "train Loss: 0.6646 Acc: 0.6352\n",
            "val Loss: 0.6423 Acc: 0.6340\n",
            "\n",
            "Epoch 8/14\n",
            "----------\n",
            "train Loss: 0.6180 Acc: 0.6598\n",
            "val Loss: 0.6120 Acc: 0.6471\n",
            "\n",
            "Epoch 9/14\n",
            "----------\n",
            "train Loss: 0.6230 Acc: 0.6803\n",
            "val Loss: 0.6443 Acc: 0.6275\n",
            "\n",
            "Epoch 10/14\n",
            "----------\n",
            "train Loss: 0.6054 Acc: 0.6639\n",
            "val Loss: 0.5521 Acc: 0.7190\n",
            "\n",
            "Epoch 11/14\n",
            "----------\n",
            "train Loss: 0.5742 Acc: 0.7254\n",
            "val Loss: 0.5752 Acc: 0.6928\n",
            "\n",
            "Epoch 12/14\n",
            "----------\n",
            "train Loss: 0.5796 Acc: 0.7090\n",
            "val Loss: 0.5642 Acc: 0.6797\n",
            "\n",
            "Epoch 13/14\n",
            "----------\n",
            "train Loss: 0.5244 Acc: 0.7254\n",
            "val Loss: 0.5466 Acc: 0.6928\n",
            "\n",
            "Epoch 14/14\n",
            "----------\n",
            "train Loss: 0.5236 Acc: 0.7377\n",
            "val Loss: 0.5441 Acc: 0.6993\n",
            "\n",
            "Training complete in 2m 36s\n",
            "Best val Acc: 0.718954\n"
          ],
          "name": "stdout"
        }
      ]
    },
    {
      "cell_type": "code",
      "metadata": {
        "id": "6acjm3M1av_m"
      },
      "source": [
        "df.loc[3]=['hymenoptera_data', str(model_ft).split('(')[0], True, 'simple_augs', 15, best_acc.item()]"
      ],
      "execution_count": 42,
      "outputs": []
    },
    {
      "cell_type": "code",
      "metadata": {
        "colab": {
          "base_uri": "https://localhost:8080/",
          "height": 168
        },
        "id": "3k92K4x9b8md",
        "outputId": "8ad8ae22-8570-45ac-bc04-543df23c462c"
      },
      "source": [
        "df"
      ],
      "execution_count": 43,
      "outputs": [
        {
          "output_type": "execute_result",
          "data": {
            "text/html": [
              "<div>\n",
              "<style scoped>\n",
              "    .dataframe tbody tr th:only-of-type {\n",
              "        vertical-align: middle;\n",
              "    }\n",
              "\n",
              "    .dataframe tbody tr th {\n",
              "        vertical-align: top;\n",
              "    }\n",
              "\n",
              "    .dataframe thead th {\n",
              "        text-align: right;\n",
              "    }\n",
              "</style>\n",
              "<table border=\"1\" class=\"dataframe\">\n",
              "  <thead>\n",
              "    <tr style=\"text-align: right;\">\n",
              "      <th></th>\n",
              "      <th>dataset</th>\n",
              "      <th>model</th>\n",
              "      <th>pretrained</th>\n",
              "      <th>augumentations</th>\n",
              "      <th>num_epochs</th>\n",
              "      <th>best_val_acc</th>\n",
              "    </tr>\n",
              "  </thead>\n",
              "  <tbody>\n",
              "    <tr>\n",
              "      <th>0</th>\n",
              "      <td>hymenoptera_data</td>\n",
              "      <td>ResNet</td>\n",
              "      <td>False</td>\n",
              "      <td>no_augs</td>\n",
              "      <td>10</td>\n",
              "      <td>0.692810</td>\n",
              "    </tr>\n",
              "    <tr>\n",
              "      <th>1</th>\n",
              "      <td>hymenoptera_data</td>\n",
              "      <td>VGG</td>\n",
              "      <td>False</td>\n",
              "      <td>no_augs</td>\n",
              "      <td>10</td>\n",
              "      <td>0.542484</td>\n",
              "    </tr>\n",
              "    <tr>\n",
              "      <th>2</th>\n",
              "      <td>hymenoptera_data</td>\n",
              "      <td>ResNet</td>\n",
              "      <td>True</td>\n",
              "      <td>simple_augs</td>\n",
              "      <td>10</td>\n",
              "      <td>0.718954</td>\n",
              "    </tr>\n",
              "    <tr>\n",
              "      <th>3</th>\n",
              "      <td>hymenoptera_data</td>\n",
              "      <td>VGG</td>\n",
              "      <td>True</td>\n",
              "      <td>simple_augs</td>\n",
              "      <td>15</td>\n",
              "      <td>0.718954</td>\n",
              "    </tr>\n",
              "  </tbody>\n",
              "</table>\n",
              "</div>"
            ],
            "text/plain": [
              "            dataset   model pretrained augumentations num_epochs  best_val_acc\n",
              "0  hymenoptera_data  ResNet      False        no_augs         10      0.692810\n",
              "1  hymenoptera_data     VGG      False        no_augs         10      0.542484\n",
              "2  hymenoptera_data  ResNet       True    simple_augs         10      0.718954\n",
              "3  hymenoptera_data     VGG       True    simple_augs         15      0.718954"
            ]
          },
          "metadata": {
            "tags": []
          },
          "execution_count": 43
        }
      ]
    },
    {
      "cell_type": "code",
      "metadata": {
        "id": "mxenZSbib992"
      },
      "source": [
        "#ЕЩЕ два запуска без аугументаций, но с претренированными весами"
      ],
      "execution_count": 44,
      "outputs": []
    },
    {
      "cell_type": "code",
      "metadata": {
        "id": "MZXik9k_c1O9"
      },
      "source": [
        "data_transforms = {\n",
        "    'train': transforms.Compose([\n",
        "        transforms.Resize((224,224)),\n",
        "        #transforms.RandomResizedCrop(224),\n",
        "        #transforms.RandomHorizontalFlip(),\n",
        "        transforms.ToTensor(),\n",
        "        #transforms.Normalize([0.485, 0.456, 0.406], [0.229, 0.224, 0.225])\n",
        "    ]),\n",
        "    'val': transforms.Compose([\n",
        "        transforms.Resize((224,224)),\n",
        "        #transforms.CenterCrop(224),\n",
        "        transforms.ToTensor(),\n",
        "        #transforms.Normalize([0.485, 0.456, 0.406], [0.229, 0.224, 0.225])\n",
        "    ]),\n",
        "}\n",
        "\n",
        "#data_dir = '../input/hymenoptera-data/hymenoptera_data/hymenoptera_data'\n",
        "data_dir='/content/gdrive/My Drive/data_science/hymenoptera_data'\n",
        "image_datasets = {x: datasets.ImageFolder(os.path.join(data_dir, x),\n",
        "                                          data_transforms[x])\n",
        "                  for x in ['train', 'val']}\n",
        "dataloaders = {x: torch.utils.data.DataLoader(image_datasets[x], batch_size=4,\n",
        "                                             shuffle=True, num_workers=4)\n",
        "              for x in ['train', 'val']}"
      ],
      "execution_count": 45,
      "outputs": []
    },
    {
      "cell_type": "code",
      "metadata": {
        "colab": {
          "base_uri": "https://localhost:8080/"
        },
        "id": "gJoeCiF-c1Sq",
        "outputId": "8cbd0a49-75bf-4bb0-8d5f-11e3ed88ad16"
      },
      "source": [
        "model_ft = models.resnet18(pretrained=True)\n",
        "num_ftrs = model_ft.fc.in_features\n",
        "#for L in model_ft:\n",
        "#  L.requires_grad = False\n",
        "model_ft.requires_grad=False\n",
        "\n",
        "model_ft.fc = nn.Linear(num_ftrs, 2)\n",
        "\n",
        "model_ft = model_ft.to(device)\n",
        "\n",
        "criterion = nn.CrossEntropyLoss()\n",
        "\n",
        "# Observe that all parameters are being optimized\n",
        "#optimizer_ft = optim.SGD(model_ft.parameters(), lr=0.001, momentum=0.9)\n",
        "optimizer_ft = torch.optim.Adam(model_ft.parameters())\n",
        "\n",
        "# Decay LR by a factor of 0.1 every 7 epochs\n",
        "exp_lr_scheduler = lr_scheduler.StepLR(optimizer_ft, step_size=7, gamma=0.1)\n",
        "model_ft, best_acc = train_model(model_ft, criterion, optimizer_ft, exp_lr_scheduler,\n",
        "                       num_epochs=10)"
      ],
      "execution_count": 46,
      "outputs": [
        {
          "output_type": "stream",
          "text": [
            "Epoch 0/9\n",
            "----------\n"
          ],
          "name": "stdout"
        },
        {
          "output_type": "stream",
          "text": [
            "/usr/local/lib/python3.6/dist-packages/torch/optim/lr_scheduler.py:136: UserWarning: Detected call of `lr_scheduler.step()` before `optimizer.step()`. In PyTorch 1.1.0 and later, you should call them in the opposite order: `optimizer.step()` before `lr_scheduler.step()`.  Failure to do this will result in PyTorch skipping the first value of the learning rate schedule. See more details at https://pytorch.org/docs/stable/optim.html#how-to-adjust-learning-rate\n",
            "  \"https://pytorch.org/docs/stable/optim.html#how-to-adjust-learning-rate\", UserWarning)\n"
          ],
          "name": "stderr"
        },
        {
          "output_type": "stream",
          "text": [
            "train Loss: 1.0378 Acc: 0.5246\n",
            "val Loss: 0.8740 Acc: 0.5033\n",
            "\n",
            "Epoch 1/9\n",
            "----------\n",
            "train Loss: 0.6938 Acc: 0.5820\n",
            "val Loss: 1.0938 Acc: 0.6601\n",
            "\n",
            "Epoch 2/9\n",
            "----------\n",
            "train Loss: 0.7078 Acc: 0.6434\n",
            "val Loss: 1.0959 Acc: 0.6340\n",
            "\n",
            "Epoch 3/9\n",
            "----------\n",
            "train Loss: 0.6700 Acc: 0.6025\n",
            "val Loss: 0.5541 Acc: 0.7386\n",
            "\n",
            "Epoch 4/9\n",
            "----------\n",
            "train Loss: 0.6782 Acc: 0.6434\n",
            "val Loss: 1.5686 Acc: 0.5752\n",
            "\n",
            "Epoch 5/9\n",
            "----------\n",
            "train Loss: 0.6720 Acc: 0.6270\n",
            "val Loss: 0.6802 Acc: 0.6275\n",
            "\n",
            "Epoch 6/9\n",
            "----------\n",
            "train Loss: 0.6461 Acc: 0.6148\n",
            "val Loss: 0.5854 Acc: 0.6732\n",
            "\n",
            "Epoch 7/9\n",
            "----------\n",
            "train Loss: 0.6143 Acc: 0.6639\n",
            "val Loss: 0.5753 Acc: 0.6993\n",
            "\n",
            "Epoch 8/9\n",
            "----------\n",
            "train Loss: 0.6030 Acc: 0.6721\n",
            "val Loss: 0.5721 Acc: 0.7386\n",
            "\n",
            "Epoch 9/9\n",
            "----------\n",
            "train Loss: 0.5665 Acc: 0.6803\n",
            "val Loss: 0.5569 Acc: 0.7059\n",
            "\n",
            "Training complete in 0m 42s\n",
            "Best val Acc: 0.738562\n"
          ],
          "name": "stdout"
        }
      ]
    },
    {
      "cell_type": "code",
      "metadata": {
        "id": "4e2Wnv-Vc1WV"
      },
      "source": [
        "df.loc[4]=['hymenoptera_data', str(model_ft).split('(')[0], True, 'no_augs', 10, best_acc.item()]"
      ],
      "execution_count": 47,
      "outputs": []
    },
    {
      "cell_type": "code",
      "metadata": {
        "colab": {
          "base_uri": "https://localhost:8080/",
          "height": 198
        },
        "id": "SYm-MYMyc1ZP",
        "outputId": "6b20d3b0-9f28-4bbc-b1c3-e71edff3cdce"
      },
      "source": [
        "df"
      ],
      "execution_count": 48,
      "outputs": [
        {
          "output_type": "execute_result",
          "data": {
            "text/html": [
              "<div>\n",
              "<style scoped>\n",
              "    .dataframe tbody tr th:only-of-type {\n",
              "        vertical-align: middle;\n",
              "    }\n",
              "\n",
              "    .dataframe tbody tr th {\n",
              "        vertical-align: top;\n",
              "    }\n",
              "\n",
              "    .dataframe thead th {\n",
              "        text-align: right;\n",
              "    }\n",
              "</style>\n",
              "<table border=\"1\" class=\"dataframe\">\n",
              "  <thead>\n",
              "    <tr style=\"text-align: right;\">\n",
              "      <th></th>\n",
              "      <th>dataset</th>\n",
              "      <th>model</th>\n",
              "      <th>pretrained</th>\n",
              "      <th>augumentations</th>\n",
              "      <th>num_epochs</th>\n",
              "      <th>best_val_acc</th>\n",
              "    </tr>\n",
              "  </thead>\n",
              "  <tbody>\n",
              "    <tr>\n",
              "      <th>0</th>\n",
              "      <td>hymenoptera_data</td>\n",
              "      <td>ResNet</td>\n",
              "      <td>False</td>\n",
              "      <td>no_augs</td>\n",
              "      <td>10</td>\n",
              "      <td>0.692810</td>\n",
              "    </tr>\n",
              "    <tr>\n",
              "      <th>1</th>\n",
              "      <td>hymenoptera_data</td>\n",
              "      <td>VGG</td>\n",
              "      <td>False</td>\n",
              "      <td>no_augs</td>\n",
              "      <td>10</td>\n",
              "      <td>0.542484</td>\n",
              "    </tr>\n",
              "    <tr>\n",
              "      <th>2</th>\n",
              "      <td>hymenoptera_data</td>\n",
              "      <td>ResNet</td>\n",
              "      <td>True</td>\n",
              "      <td>simple_augs</td>\n",
              "      <td>10</td>\n",
              "      <td>0.718954</td>\n",
              "    </tr>\n",
              "    <tr>\n",
              "      <th>3</th>\n",
              "      <td>hymenoptera_data</td>\n",
              "      <td>VGG</td>\n",
              "      <td>True</td>\n",
              "      <td>simple_augs</td>\n",
              "      <td>15</td>\n",
              "      <td>0.718954</td>\n",
              "    </tr>\n",
              "    <tr>\n",
              "      <th>4</th>\n",
              "      <td>hymenoptera_data</td>\n",
              "      <td>ResNet</td>\n",
              "      <td>True</td>\n",
              "      <td>no_augs</td>\n",
              "      <td>10</td>\n",
              "      <td>0.738562</td>\n",
              "    </tr>\n",
              "  </tbody>\n",
              "</table>\n",
              "</div>"
            ],
            "text/plain": [
              "            dataset   model pretrained augumentations num_epochs  best_val_acc\n",
              "0  hymenoptera_data  ResNet      False        no_augs         10      0.692810\n",
              "1  hymenoptera_data     VGG      False        no_augs         10      0.542484\n",
              "2  hymenoptera_data  ResNet       True    simple_augs         10      0.718954\n",
              "3  hymenoptera_data     VGG       True    simple_augs         15      0.718954\n",
              "4  hymenoptera_data  ResNet       True        no_augs         10      0.738562"
            ]
          },
          "metadata": {
            "tags": []
          },
          "execution_count": 48
        }
      ]
    },
    {
      "cell_type": "code",
      "metadata": {
        "id": "J4KeyXHGdaPt"
      },
      "source": [
        "model_ft = models.vgg16(pretrained=True)\n",
        "#num_ftrs = model_ft.fc.in_features\n",
        "#model_ft.fc = nn.Linear(num_ftrs, 2)\n",
        "\n",
        "model_ft = model_ft.to(device)\n",
        "\n",
        "criterion = nn.CrossEntropyLoss()\n",
        "optimizer_ft = torch.optim.Adam(model_ft.parameters())\n",
        "exp_lr_scheduler = lr_scheduler.StepLR(optimizer_ft, step_size=7, gamma=0.1)"
      ],
      "execution_count": 49,
      "outputs": []
    },
    {
      "cell_type": "code",
      "metadata": {
        "colab": {
          "base_uri": "https://localhost:8080/"
        },
        "id": "TzPYRUJ_d0mH",
        "outputId": "15a16477-b233-4010-aaaf-53d76ae830e9"
      },
      "source": [
        "model_ft, best_acc = train_model(model_ft, criterion, optimizer_ft, exp_lr_scheduler,\n",
        "                       num_epochs=10)"
      ],
      "execution_count": 50,
      "outputs": [
        {
          "output_type": "stream",
          "text": [
            "Epoch 0/9\n",
            "----------\n"
          ],
          "name": "stdout"
        },
        {
          "output_type": "stream",
          "text": [
            "/usr/local/lib/python3.6/dist-packages/torch/optim/lr_scheduler.py:136: UserWarning: Detected call of `lr_scheduler.step()` before `optimizer.step()`. In PyTorch 1.1.0 and later, you should call them in the opposite order: `optimizer.step()` before `lr_scheduler.step()`.  Failure to do this will result in PyTorch skipping the first value of the learning rate schedule. See more details at https://pytorch.org/docs/stable/optim.html#how-to-adjust-learning-rate\n",
            "  \"https://pytorch.org/docs/stable/optim.html#how-to-adjust-learning-rate\", UserWarning)\n"
          ],
          "name": "stderr"
        },
        {
          "output_type": "stream",
          "text": [
            "train Loss: 2.3048 Acc: 0.4754\n",
            "val Loss: 0.9626 Acc: 0.4575\n",
            "\n",
            "Epoch 1/9\n",
            "----------\n",
            "train Loss: 0.7999 Acc: 0.4713\n",
            "val Loss: 0.6894 Acc: 0.5425\n",
            "\n",
            "Epoch 2/9\n",
            "----------\n",
            "train Loss: 0.7228 Acc: 0.5328\n",
            "val Loss: 0.7473 Acc: 0.5425\n",
            "\n",
            "Epoch 3/9\n",
            "----------\n",
            "train Loss: 0.7610 Acc: 0.4795\n",
            "val Loss: 0.7105 Acc: 0.4575\n",
            "\n",
            "Epoch 4/9\n",
            "----------\n",
            "train Loss: 0.7138 Acc: 0.4959\n",
            "val Loss: 0.7202 Acc: 0.5425\n",
            "\n",
            "Epoch 5/9\n",
            "----------\n",
            "train Loss: 0.7349 Acc: 0.4754\n",
            "val Loss: 0.6922 Acc: 0.5425\n",
            "\n",
            "Epoch 6/9\n",
            "----------\n",
            "train Loss: 0.7081 Acc: 0.5041\n",
            "val Loss: 0.6928 Acc: 0.5425\n",
            "\n",
            "Epoch 7/9\n",
            "----------\n",
            "train Loss: 0.7351 Acc: 0.4631\n",
            "val Loss: 0.6912 Acc: 0.5425\n",
            "\n",
            "Epoch 8/9\n",
            "----------\n",
            "train Loss: 0.7100 Acc: 0.5082\n",
            "val Loss: 0.6989 Acc: 0.4575\n",
            "\n",
            "Epoch 9/9\n",
            "----------\n",
            "train Loss: 0.6913 Acc: 0.5492\n",
            "val Loss: 0.6918 Acc: 0.5425\n",
            "\n",
            "Training complete in 1m 43s\n",
            "Best val Acc: 0.542484\n"
          ],
          "name": "stdout"
        }
      ]
    },
    {
      "cell_type": "code",
      "metadata": {
        "id": "_bnA0Ua_df7U"
      },
      "source": [
        "df.loc[5]=['hymenoptera_data', str(model_ft).split('(')[0], True, 'no_augs', 10, best_acc.item()]"
      ],
      "execution_count": 51,
      "outputs": []
    },
    {
      "cell_type": "code",
      "metadata": {
        "colab": {
          "base_uri": "https://localhost:8080/",
          "height": 228
        },
        "id": "-djNJehoeH_w",
        "outputId": "36118b96-2510-4c56-a596-eff7307ce7fa"
      },
      "source": [
        "df"
      ],
      "execution_count": 52,
      "outputs": [
        {
          "output_type": "execute_result",
          "data": {
            "text/html": [
              "<div>\n",
              "<style scoped>\n",
              "    .dataframe tbody tr th:only-of-type {\n",
              "        vertical-align: middle;\n",
              "    }\n",
              "\n",
              "    .dataframe tbody tr th {\n",
              "        vertical-align: top;\n",
              "    }\n",
              "\n",
              "    .dataframe thead th {\n",
              "        text-align: right;\n",
              "    }\n",
              "</style>\n",
              "<table border=\"1\" class=\"dataframe\">\n",
              "  <thead>\n",
              "    <tr style=\"text-align: right;\">\n",
              "      <th></th>\n",
              "      <th>dataset</th>\n",
              "      <th>model</th>\n",
              "      <th>pretrained</th>\n",
              "      <th>augumentations</th>\n",
              "      <th>num_epochs</th>\n",
              "      <th>best_val_acc</th>\n",
              "    </tr>\n",
              "  </thead>\n",
              "  <tbody>\n",
              "    <tr>\n",
              "      <th>0</th>\n",
              "      <td>hymenoptera_data</td>\n",
              "      <td>ResNet</td>\n",
              "      <td>False</td>\n",
              "      <td>no_augs</td>\n",
              "      <td>10</td>\n",
              "      <td>0.692810</td>\n",
              "    </tr>\n",
              "    <tr>\n",
              "      <th>1</th>\n",
              "      <td>hymenoptera_data</td>\n",
              "      <td>VGG</td>\n",
              "      <td>False</td>\n",
              "      <td>no_augs</td>\n",
              "      <td>10</td>\n",
              "      <td>0.542484</td>\n",
              "    </tr>\n",
              "    <tr>\n",
              "      <th>2</th>\n",
              "      <td>hymenoptera_data</td>\n",
              "      <td>ResNet</td>\n",
              "      <td>True</td>\n",
              "      <td>simple_augs</td>\n",
              "      <td>10</td>\n",
              "      <td>0.718954</td>\n",
              "    </tr>\n",
              "    <tr>\n",
              "      <th>3</th>\n",
              "      <td>hymenoptera_data</td>\n",
              "      <td>VGG</td>\n",
              "      <td>True</td>\n",
              "      <td>simple_augs</td>\n",
              "      <td>15</td>\n",
              "      <td>0.718954</td>\n",
              "    </tr>\n",
              "    <tr>\n",
              "      <th>4</th>\n",
              "      <td>hymenoptera_data</td>\n",
              "      <td>ResNet</td>\n",
              "      <td>True</td>\n",
              "      <td>no_augs</td>\n",
              "      <td>10</td>\n",
              "      <td>0.738562</td>\n",
              "    </tr>\n",
              "    <tr>\n",
              "      <th>5</th>\n",
              "      <td>hymenoptera_data</td>\n",
              "      <td>VGG</td>\n",
              "      <td>True</td>\n",
              "      <td>no_augs</td>\n",
              "      <td>10</td>\n",
              "      <td>0.542484</td>\n",
              "    </tr>\n",
              "  </tbody>\n",
              "</table>\n",
              "</div>"
            ],
            "text/plain": [
              "            dataset   model pretrained augumentations num_epochs  best_val_acc\n",
              "0  hymenoptera_data  ResNet      False        no_augs         10      0.692810\n",
              "1  hymenoptera_data     VGG      False        no_augs         10      0.542484\n",
              "2  hymenoptera_data  ResNet       True    simple_augs         10      0.718954\n",
              "3  hymenoptera_data     VGG       True    simple_augs         15      0.718954\n",
              "4  hymenoptera_data  ResNet       True        no_augs         10      0.738562\n",
              "5  hymenoptera_data     VGG       True        no_augs         10      0.542484"
            ]
          },
          "metadata": {
            "tags": []
          },
          "execution_count": 52
        }
      ]
    },
    {
      "cell_type": "code",
      "metadata": {
        "id": "flnvTJ5seJHK"
      },
      "source": [
        "#В режиме файнтюинга точность выше.\n",
        "\n",
        "#Резнет лучше, чем VGG. Возможно, нужно научиться готовить VGG.\n",
        "\n",
        "#Почему-то без аугументаций цифры лучше. \n",
        "#Скорее всего, нужно правильно подобрать кропы. \n",
        "#Муравьи в очень разных масштабах. "
      ],
      "execution_count": 53,
      "outputs": []
    },
    {
      "cell_type": "code",
      "metadata": {
        "id": "3bJFYEb3eypd"
      },
      "source": [
        ""
      ],
      "execution_count": null,
      "outputs": []
    }
  ]
}