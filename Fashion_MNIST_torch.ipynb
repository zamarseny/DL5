{
 "cells": [
  {
   "cell_type": "code",
   "execution_count": 1,
   "metadata": {
    "ExecuteTime": {
     "end_time": "2020-02-14T21:19:12.309344Z",
     "start_time": "2020-02-14T21:19:11.748461Z"
    },
    "colab": {},
    "colab_type": "code",
    "id": "cnKpwMuHd5sY"
   },
   "outputs": [],
   "source": [
    "import torch\n",
    "import torchvision as tv"
   ]
  },
  {
   "cell_type": "markdown",
   "metadata": {
    "colab_type": "text",
    "id": "IpBa4nCkgSve"
   },
   "source": [
    "Постройте модель для классификации FashionMNIST. Попробуйте получить качество на тестовой выборке не ниже 88%\n",
    "\n",
    "- попробуйте заменить SGD на Adam и RMSProp. Увеличится ли скорость сходимости?\n",
    "- попробуйте сделать больше слоев в сети - увеличится ли качество?\n",
    "- попробуйте добавить регуляризацию, dropout и/или batchnorm-слои. Увеличится ли качество?"
   ]
  },
  {
   "cell_type": "code",
   "execution_count": 2,
   "metadata": {
    "ExecuteTime": {
     "end_time": "2020-02-14T21:29:24.498918Z",
     "start_time": "2020-02-14T21:29:24.495970Z"
    },
    "colab": {},
    "colab_type": "code",
    "id": "4TMrR96Ad5uN"
   },
   "outputs": [],
   "source": [
    "import torchvision\n",
    "import time\n",
    "import matplotlib.pyplot as plt"
   ]
  },
  {
   "cell_type": "code",
   "execution_count": 0,
   "metadata": {
    "ExecuteTime": {
     "end_time": "2020-02-14T21:24:20.257148Z",
     "start_time": "2020-02-14T21:24:20.253690Z"
    },
    "colab": {},
    "colab_type": "code",
    "id": "3WqU2IuCd5uQ"
   },
   "outputs": [],
   "source": [
    "#def transform(data):\n",
    "#    data = torch.tensor(data.getdata(), dtype=torch.float32)\n",
    "#    return torch.floor(data / 128.).squeeze(axis=-1)"
   ]
  },
  {
   "cell_type": "code",
   "execution_count": 3,
   "metadata": {
    "ExecuteTime": {
     "end_time": "2020-02-14T21:24:20.589869Z",
     "start_time": "2020-02-14T21:24:20.565449Z"
    },
    "colab": {},
    "colab_type": "code",
    "id": "bwvmJqQRd5uS"
   },
   "outputs": [
    {
     "name": "stdout",
     "output_type": "stream",
     "text": [
      "Downloading http://fashion-mnist.s3-website.eu-central-1.amazonaws.com/train-images-idx3-ubyte.gz to .\\FashionMNIST\\raw\\train-images-idx3-ubyte.gz\n"
     ]
    },
    {
     "data": {
      "application/vnd.jupyter.widget-view+json": {
       "model_id": "309a05d65e724594848da21ad3bb2834",
       "version_major": 2,
       "version_minor": 0
      },
      "text/plain": [
       "HBox(children=(HTML(value=''), FloatProgress(value=1.0, bar_style='info', layout=Layout(width='20px'), max=1.0…"
      ]
     },
     "metadata": {},
     "output_type": "display_data"
    },
    {
     "name": "stdout",
     "output_type": "stream",
     "text": [
      "Extracting .\\FashionMNIST\\raw\\train-images-idx3-ubyte.gz to .\\FashionMNIST\\raw\n",
      "Downloading http://fashion-mnist.s3-website.eu-central-1.amazonaws.com/train-labels-idx1-ubyte.gz to .\\FashionMNIST\\raw\\train-labels-idx1-ubyte.gz\n"
     ]
    },
    {
     "data": {
      "application/vnd.jupyter.widget-view+json": {
       "model_id": "b841f6cd6489475b94f935b75ab64c10",
       "version_major": 2,
       "version_minor": 0
      },
      "text/plain": [
       "HBox(children=(HTML(value=''), FloatProgress(value=1.0, bar_style='info', layout=Layout(width='20px'), max=1.0…"
      ]
     },
     "metadata": {},
     "output_type": "display_data"
    },
    {
     "name": "stdout",
     "output_type": "stream",
     "text": [
      "Extracting .\\FashionMNIST\\raw\\train-labels-idx1-ubyte.gz to .\\FashionMNIST\\raw\n",
      "Downloading http://fashion-mnist.s3-website.eu-central-1.amazonaws.com/t10k-images-idx3-ubyte.gz to .\\FashionMNIST\\raw\\t10k-images-idx3-ubyte.gz\n",
      "\n"
     ]
    },
    {
     "data": {
      "application/vnd.jupyter.widget-view+json": {
       "model_id": "0e16690499c94bbfa1370e85e85a8be1",
       "version_major": 2,
       "version_minor": 0
      },
      "text/plain": [
       "HBox(children=(HTML(value=''), FloatProgress(value=1.0, bar_style='info', layout=Layout(width='20px'), max=1.0…"
      ]
     },
     "metadata": {},
     "output_type": "display_data"
    },
    {
     "name": "stdout",
     "output_type": "stream",
     "text": [
      "Extracting .\\FashionMNIST\\raw\\t10k-images-idx3-ubyte.gz to .\\FashionMNIST\\raw\n",
      "Downloading http://fashion-mnist.s3-website.eu-central-1.amazonaws.com/t10k-labels-idx1-ubyte.gz to .\\FashionMNIST\\raw\\t10k-labels-idx1-ubyte.gz\n"
     ]
    },
    {
     "data": {
      "application/vnd.jupyter.widget-view+json": {
       "model_id": "6e5c7b2fea934d3ca097845e6d528ebc",
       "version_major": 2,
       "version_minor": 0
      },
      "text/plain": [
       "HBox(children=(HTML(value=''), FloatProgress(value=1.0, bar_style='info', layout=Layout(width='20px'), max=1.0…"
      ]
     },
     "metadata": {},
     "output_type": "display_data"
    },
    {
     "name": "stdout",
     "output_type": "stream",
     "text": [
      "Extracting .\\FashionMNIST\\raw\\t10k-labels-idx1-ubyte.gz to .\\FashionMNIST\\raw\n",
      "Processing...\n"
     ]
    },
    {
     "name": "stderr",
     "output_type": "stream",
     "text": [
      "C:\\Users\\zamarseny\\anaconda3\\envs\\torch\\lib\\site-packages\\torchvision\\datasets\\mnist.py:469: UserWarning: The given NumPy array is not writeable, and PyTorch does not support non-writeable tensors. This means you can write to the underlying (supposedly non-writeable) NumPy array using the tensor. You may want to copy the array to protect its data or make it writeable before converting it to a tensor. This type of warning will be suppressed for the rest of this program. (Triggered internally at  ..\\torch\\csrc\\utils\\tensor_numpy.cpp:141.)\n",
      "  return torch.from_numpy(parsed.astype(m[2], copy=False)).view(*s)\n"
     ]
    },
    {
     "name": "stdout",
     "output_type": "stream",
     "text": [
      "Done!\n"
     ]
    }
   ],
   "source": [
    "#Fmnist_train = tv.datasets.FashionMNIST('.', train=True, transform=transform, download=True)\n",
    "#Fmnist_test  = tv.datasets.FashionMNIST('.', train=False, transform=transform, download=True)\n",
    "\n",
    "Fmnist_train = tv.datasets.FashionMNIST('.', train=True, transform=tv.transforms.ToTensor(), download=True)\n",
    "Fmnist_test  = tv.datasets.FashionMNIST('.', train=False, transform=tv.transforms.ToTensor(), download=True)"
   ]
  },
  {
   "cell_type": "code",
   "execution_count": 4,
   "metadata": {
    "colab": {},
    "colab_type": "code",
    "id": "HXabxwLAbVNR"
   },
   "outputs": [],
   "source": [
    "labels_f={0:\t'T-shirt/top',\n",
    "1:\t'Trouser',\n",
    "2:\t'Pullover',\n",
    "3:\t'Dress',\n",
    "4:\t'Coat',\n",
    "5:\t'Sandal',\n",
    "6:\t'Shirt',\n",
    "7:\t'Sneaker',\n",
    "8:\t'Bag',\n",
    "9\t:'Ankle boot'}"
   ]
  },
  {
   "cell_type": "code",
   "execution_count": 6,
   "metadata": {
    "ExecuteTime": {
     "end_time": "2020-02-14T21:24:46.737850Z",
     "start_time": "2020-02-14T21:24:46.732575Z"
    },
    "colab": {
     "base_uri": "https://localhost:8080/",
     "height": 298
    },
    "colab_type": "code",
    "id": "1dAXZV3Qd5uV",
    "outputId": "75bf6b46-6e02-4ec4-f797-1cfcc3c249e9"
   },
   "outputs": [
    {
     "name": "stdout",
     "output_type": "stream",
     "text": [
      "\n"
     ]
    },
    {
     "data": {
      "text/plain": [
       "<matplotlib.image.AxesImage at 0x1e86d080908>"
      ]
     },
     "execution_count": 6,
     "metadata": {},
     "output_type": "execute_result"
    },
    {
     "name": "stdout",
     "output_type": "stream",
     "text": [
      "\n",
      "\n"
     ]
    },
    {
     "data": {
      "image/png": "[encoded data removed]",
      "text/plain": [
       "<Figure size 432x288 with 1 Axes>"
      ]
     },
     "metadata": {
      "needs_background": "light"
     },
     "output_type": "display_data"
    }
   ],
   "source": [
    "#Fmnist_train[0][0].reshape(28,28)#.shape\n",
    "i=5\n",
    "plt.title(labels_f[Fmnist_train[i][1]])\n",
    "plt.imshow(Fmnist_train[i][0].numpy().reshape((28,28)), cmap='gray')"
   ]
  },
  {
   "cell_type": "code",
   "execution_count": 7,
   "metadata": {
    "colab": {},
    "colab_type": "code",
    "id": "xKmSszr-PRUF"
   },
   "outputs": [],
   "source": [
    "#Option III: Five fc layers 0.85 test accuracy\n",
    "model = torch.nn.Sequential(\n",
    "    torch.nn.Flatten(),\n",
    "    \n",
    "    #torch.nn.Dropout(0.1),\n",
    "    torch.nn.BatchNorm1d(num_features=784),\n",
    "    torch.nn.Linear(784, 512),\n",
    "    torch.nn.ReLU(),\n",
    "\n",
    "    torch.nn.BatchNorm1d(num_features=512),\n",
    "    torch.nn.Dropout(0.5),\n",
    "    torch.nn.Linear(512, 256),\n",
    "    torch.nn.ReLU(),\n",
    "    \n",
    "    torch.nn.BatchNorm1d(num_features=256),\n",
    "    torch.nn.Dropout(0.3),\n",
    "    torch.nn.Linear(256, 150),\n",
    "    torch.nn.ReLU(),\n",
    "\n",
    "    torch.nn.BatchNorm1d(num_features=150),\n",
    "    torch.nn.Dropout(0.2),\n",
    "    torch.nn.Linear(150, 80),\n",
    "    torch.nn.ReLU(),\n",
    "\n",
    "    torch.nn.BatchNorm1d(num_features=80),\n",
    "    torch.nn.Dropout(0.2),\n",
    "    torch.nn.Linear(80, 10)\n",
    ")\n",
    "\n",
    "loss = torch.nn.CrossEntropyLoss(reduction='sum')\n",
    "#trainer = torch.optim.Adam(model.parameters(), lr=0.001)\n",
    "trainer = torch.optim.Adam(model.parameters())"
   ]
  },
  {
   "cell_type": "code",
   "execution_count": 9,
   "metadata": {
    "ExecuteTime": {
     "end_time": "2020-02-14T21:27:36.496823Z",
     "start_time": "2020-02-14T21:27:36.493194Z"
    },
    "colab": {},
    "colab_type": "code",
    "id": "CHcmWw1nd5uZ"
   },
   "outputs": [],
   "source": [
    "train, test = torch.utils.data.DataLoader(Fmnist_train, 256, shuffle=True), torch.utils.data.DataLoader(Fmnist_test, 256)"
   ]
  },
  {
   "cell_type": "code",
   "execution_count": 10,
   "metadata": {
    "ExecuteTime": {
     "end_time": "2020-02-14T21:36:31.234369Z",
     "start_time": "2020-02-14T21:35:12.487111Z"
    },
    "colab": {
     "base_uri": "https://localhost:8080/",
     "height": 1000
    },
    "colab_type": "code",
    "id": "ugNG-TNrd5ub",
    "outputId": "325eb376-f4c9-4a81-d954-317dda1db849"
   },
   "outputs": [
    {
     "name": "stdout",
     "output_type": "stream",
     "text": [
      "epoch 0, taked: 13.777\n",
      "train -> loss: 0.592, acc: 0.799\n",
      "test -> loss: 0.418, acc: 0.850\n",
      "\n",
      "epoch 1, taked: 12.568\n",
      "train -> loss: 0.416, acc: 0.851\n",
      "test -> loss: 0.377, acc: 0.862\n",
      "\n",
      "epoch 2, taked: 12.401\n",
      "train -> loss: 0.381, acc: 0.862\n",
      "test -> loss: 0.355, acc: 0.872\n",
      "\n",
      "epoch 3, taked: 12.206\n",
      "train -> loss: 0.359, acc: 0.869\n",
      "test -> loss: 0.350, acc: 0.874\n",
      "\n",
      "epoch 4, taked: 12.439\n",
      "train -> loss: 0.339, acc: 0.877\n",
      "test -> loss: 0.348, acc: 0.873\n",
      "\n",
      "epoch 5, taked: 12.438\n",
      "train -> loss: 0.330, acc: 0.880\n",
      "test -> loss: 0.331, acc: 0.882\n",
      "\n",
      "epoch 6, taked: 12.359\n",
      "train -> loss: 0.320, acc: 0.882\n",
      "test -> loss: 0.336, acc: 0.879\n",
      "\n",
      "epoch 7, taked: 12.701\n",
      "train -> loss: 0.307, acc: 0.888\n",
      "test -> loss: 0.325, acc: 0.883\n",
      "\n",
      "epoch 8, taked: 12.364\n",
      "train -> loss: 0.299, acc: 0.890\n",
      "test -> loss: 0.323, acc: 0.885\n",
      "\n",
      "epoch 9, taked: 13.190\n",
      "train -> loss: 0.294, acc: 0.893\n",
      "test -> loss: 0.314, acc: 0.885\n",
      "\n",
      "epoch 10, taked: 12.527\n",
      "train -> loss: 0.286, acc: 0.895\n",
      "test -> loss: 0.316, acc: 0.888\n",
      "\n",
      "epoch 11, taked: 13.214\n",
      "train -> loss: 0.278, acc: 0.898\n",
      "test -> loss: 0.311, acc: 0.889\n",
      "\n",
      "epoch 12, taked: 12.932\n",
      "train -> loss: 0.273, acc: 0.900\n",
      "test -> loss: 0.314, acc: 0.886\n",
      "\n",
      "epoch 13, taked: 12.593\n",
      "train -> loss: 0.268, acc: 0.901\n",
      "test -> loss: 0.305, acc: 0.890\n",
      "\n",
      "epoch 14, taked: 12.234\n",
      "train -> loss: 0.262, acc: 0.903\n",
      "test -> loss: 0.304, acc: 0.890\n",
      "\n"
     ]
    }
   ],
   "source": [
    "num_epochs = 15\n",
    "for epoch in range(0, num_epochs):\n",
    "    start, train_loss, train_acc, train_n, test_loss, test_acc, test_n = time.time(), 0., 0., 0, 0., 0., 0\n",
    "    \n",
    "    model.train()\n",
    "    for X, y in train:\n",
    "        trainer.zero_grad()\n",
    "        y_hat = model.forward(X)\n",
    "        l = loss(y_hat, y)\n",
    "        l.backward()\n",
    "        trainer.step()\n",
    "        train_loss += l.item()\n",
    "        train_acc += (y_hat.argmax(dim=1) == y).sum().item()\n",
    "        train_n += len(X)\n",
    "    \n",
    "    model.eval()\n",
    "    for X, y in test:\n",
    "        y_hat = model.forward(X)\n",
    "        l = loss(y_hat, y)\n",
    "        test_loss += l.item()\n",
    "        test_acc += (y_hat.argmax(dim=1) == y).sum().item()\n",
    "        test_n += len(X)   \n",
    "        \n",
    "    print(\"\"\"epoch {}, taked: {:.3f}\n",
    "train -> loss: {:.3f}, acc: {:.3f}\n",
    "test -> loss: {:.3f}, acc: {:.3f}\n",
    "\"\"\".format(epoch, time.time() - start, train_loss / train_n, train_acc / train_n,\n",
    "       test_loss / test_n, test_acc / test_n))\n"
   ]
  },
  {
   "cell_type": "code",
   "execution_count": 12,
   "metadata": {
    "colab": {
     "base_uri": "https://localhost:8080/",
     "height": 34
    },
    "colab_type": "code",
    "id": "hH4s1K5OvFRR",
    "outputId": "93e4a7ee-adf3-4491-a3b0-78abcaf3f778"
   },
   "outputs": [
    {
     "data": {
      "text/plain": [
       "(10000, tensor([9, 2, 1,  ..., 8, 1, 5]))"
      ]
     },
     "execution_count": 12,
     "metadata": {},
     "output_type": "execute_result"
    }
   ],
   "source": [
    "#y_pred=torch.Tensor([1], dtypes=torch.int64)\n",
    "y_pred=torch.zeros((1), dtype=torch.int64)\n",
    "y_true=torch.zeros((1), dtype=torch.int64)\n",
    "model.eval()\n",
    "for X, y in test:\n",
    "  #pass\n",
    "  y_hat = model.forward(X)\n",
    "  #print(y_pred.shape, torch.argmax(y_hat, dim=1).shape)\n",
    "  pred_int=torch.argmax(y_hat, dim=1)\n",
    "  y_pred=torch.cat((y_pred, pred_int), axis=0)\n",
    "  y_true=torch.cat((y_true, y), axis=0)\n",
    "y_pred=y_pred[1:]\n",
    "y_true=y_true[1:]\n",
    "len(y_pred), y_pred\n",
    "#for i in test:\n",
    "#  print(i[1])"
   ]
  },
  {
   "cell_type": "code",
   "execution_count": 14,
   "metadata": {
    "colab": {
     "base_uri": "https://localhost:8080/",
     "height": 185
    },
    "colab_type": "code",
    "id": "82ZAA0LPjYwf",
    "outputId": "9f02b3c3-c7bb-49a4-d569-c389808abbd3"
   },
   "outputs": [
    {
     "data": {
      "text/plain": [
       "['T-shirt/top',\n",
       " 'Trouser',\n",
       " 'Pullover',\n",
       " 'Dress',\n",
       " 'Coat',\n",
       " 'Sandal',\n",
       " 'Shirt',\n",
       " 'Sneaker',\n",
       " 'Bag',\n",
       " 'Ankle boot']"
      ]
     },
     "execution_count": 14,
     "metadata": {},
     "output_type": "execute_result"
    }
   ],
   "source": [
    "list(labels_f.values())"
   ]
  },
  {
   "cell_type": "code",
   "execution_count": 15,
   "metadata": {
    "colab": {
     "base_uri": "https://localhost:8080/",
     "height": 470
    },
    "colab_type": "code",
    "id": "JjyOvpvSmQ6l",
    "outputId": "97e88fcd-3825-4230-8148-7372b0a47dd3"
   },
   "outputs": [
    {
     "name": "stdout",
     "output_type": "stream",
     "text": [
      "              precision    recall  f1-score   support\n",
      "\n",
      " T-shirt/top       0.81      0.89      0.84      1000\n",
      "     Trouser       0.99      0.97      0.98      1000\n",
      "    Pullover       0.85      0.78      0.81      1000\n",
      "       Dress       0.87      0.92      0.90      1000\n",
      "        Coat       0.83      0.82      0.83      1000\n",
      "      Sandal       0.98      0.95      0.97      1000\n",
      "       Shirt       0.71      0.68      0.70      1000\n",
      "     Sneaker       0.93      0.97      0.95      1000\n",
      "         Bag       0.98      0.97      0.98      1000\n",
      "  Ankle boot       0.96      0.95      0.96      1000\n",
      "\n",
      "    accuracy                           0.89     10000\n",
      "   macro avg       0.89      0.89      0.89     10000\n",
      "weighted avg       0.89      0.89      0.89     10000\n",
      "\n",
      "[[888   1   6  20   3   0  76   0   6   0]\n",
      " [  2 968   4  18   3   0   4   0   1   0]\n",
      " [ 16   1 776  15  89   0 101   0   2   0]\n",
      " [ 25   6   4 922  19   0  20   0   4   0]\n",
      " [  0   0  62  43 821   0  74   0   0   0]\n",
      " [  0   0   0   0   0 955   0  29   1  15]\n",
      " [165   0  60  33  52   0 684   0   6   0]\n",
      " [  0   0   0   0   0  12   0 968   0  20]\n",
      " [  7   0   3   5   0   1   7   5 972   0]\n",
      " [  0   0   0   0   0  11   1  37   0 951]]\n"
     ]
    }
   ],
   "source": [
    "from sklearn.metrics import classification_report, confusion_matrix\n",
    "print(classification_report(y_true, y_pred  , target_names=list(labels_f.values())))\n",
    "print(confusion_matrix(y_true, y_pred,))#, labels=list(labels_f.values())))"
   ]
  },
  {
   "cell_type": "code",
   "execution_count": 0,
   "metadata": {
    "colab": {},
    "colab_type": "code",
    "id": "UNRr1CVxn3pb"
   },
   "outputs": [],
   "source": [
    "# \"T-shirt/top\" путается \"Shirt\"\n",
    "#конец решения"
   ]
  }
 ],
 "metadata": {
  "colab": {
   "collapsed_sections": [],
   "name": "Copy of Fashion_MNIST_torch.ipynb",
   "provenance": []
  },
  "kernelspec": {
   "display_name": "Python 3",
   "language": "python",
   "name": "python3"
  },
  "language_info": {
   "codemirror_mode": {
    "name": "ipython",
    "version": 3
   },
   "file_extension": ".py",
   "mimetype": "text/x-python",
   "name": "python",
   "nbconvert_exporter": "python",
   "pygments_lexer": "ipython3",
   "version": "3.7.9"
  }
 },
 "nbformat": 4,
 "nbformat_minor": 1
}
